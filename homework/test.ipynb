{
 "cells": [
  {
   "cell_type": "code",
   "execution_count": 1,
   "metadata": {},
   "outputs": [
    {
     "name": "stdout",
     "output_type": "stream",
     "text": [
      "[*********************100%%**********************]  1 of 1 completed\n"
     ]
    },
    {
     "ename": "InvalidURL",
     "evalue": "Failed to parse: Open   High    Low  Close   Adj Close    Volume\nDate                                                        \n2023-01-03  446.0  453.5  443.0  453.0  445.975525  14885824\n2023-01-04  449.5  455.0  448.5  449.5  442.529785  19188422\n2023-01-05  459.0  459.5  455.0  458.5  451.390259  23549581\n2023-01-06  455.0  459.5  455.0  458.5  451.390259  20886011\n2023-01-09  468.0  481.0  467.5  481.0  473.541321  46666263\n...           ...    ...    ...    ...         ...       ...\n2023-10-06  530.0  533.0  529.0  532.0  532.000000  15336587\n2023-10-11  542.0  544.0  540.0  544.0  544.000000  46639969\n2023-10-12  545.0  550.0  544.0  550.0  550.000000  34161176\n2023-10-13  550.0  554.0  548.0  553.0  553.000000  31123496\n2023-10-16  546.0  547.0  542.0  545.0  545.000000  20222773\n\n[185 rows x 6 columns]",
     "output_type": "error",
     "traceback": [
      "\u001b[1;31m---------------------------------------------------------------------------\u001b[0m",
      "\u001b[1;31mAttributeError\u001b[0m                            Traceback (most recent call last)",
      "File \u001b[1;32mc:\\Users\\cccs03\\Desktop\\python\\github\\__11209python_school__\\.venv\\lib\\site-packages\\urllib3\\util\\url.py:425\u001b[0m, in \u001b[0;36mparse_url\u001b[1;34m(url)\u001b[0m\n\u001b[0;32m    424\u001b[0m auth \u001b[39m=\u001b[39m auth \u001b[39mor\u001b[39;00m \u001b[39mNone\u001b[39;00m\n\u001b[1;32m--> 425\u001b[0m host, port \u001b[39m=\u001b[39m _HOST_PORT_RE\u001b[39m.\u001b[39;49mmatch(host_port)\u001b[39m.\u001b[39;49mgroups()  \u001b[39m# type: ignore[union-attr]\u001b[39;00m\n\u001b[0;32m    426\u001b[0m \u001b[39mif\u001b[39;00m auth \u001b[39mand\u001b[39;00m normalize_uri:\n",
      "\u001b[1;31mAttributeError\u001b[0m: 'NoneType' object has no attribute 'groups'",
      "\nThe above exception was the direct cause of the following exception:\n",
      "\u001b[1;31mLocationParseError\u001b[0m                        Traceback (most recent call last)",
      "File \u001b[1;32mc:\\Users\\cccs03\\Desktop\\python\\github\\__11209python_school__\\.venv\\lib\\site-packages\\requests\\models.py:434\u001b[0m, in \u001b[0;36mPreparedRequest.prepare_url\u001b[1;34m(self, url, params)\u001b[0m\n\u001b[0;32m    433\u001b[0m \u001b[39mtry\u001b[39;00m:\n\u001b[1;32m--> 434\u001b[0m     scheme, auth, host, port, path, query, fragment \u001b[39m=\u001b[39m parse_url(url)\n\u001b[0;32m    435\u001b[0m \u001b[39mexcept\u001b[39;00m LocationParseError \u001b[39mas\u001b[39;00m e:\n",
      "File \u001b[1;32mc:\\Users\\cccs03\\Desktop\\python\\github\\__11209python_school__\\.venv\\lib\\site-packages\\urllib3\\util\\url.py:451\u001b[0m, in \u001b[0;36mparse_url\u001b[1;34m(url)\u001b[0m\n\u001b[0;32m    450\u001b[0m \u001b[39mexcept\u001b[39;00m (\u001b[39mValueError\u001b[39;00m, \u001b[39mAttributeError\u001b[39;00m) \u001b[39mas\u001b[39;00m e:\n\u001b[1;32m--> 451\u001b[0m     \u001b[39mraise\u001b[39;00m LocationParseError(source_url) \u001b[39mfrom\u001b[39;00m \u001b[39me\u001b[39;00m\n\u001b[0;32m    453\u001b[0m \u001b[39m# For the sake of backwards compatibility we put empty\u001b[39;00m\n\u001b[0;32m    454\u001b[0m \u001b[39m# string values for path if there are any defined values\u001b[39;00m\n\u001b[0;32m    455\u001b[0m \u001b[39m# beyond the path in the URL.\u001b[39;00m\n\u001b[0;32m    456\u001b[0m \u001b[39m# TODO: Remove this when we break backwards compatibility.\u001b[39;00m\n",
      "\u001b[1;31mLocationParseError\u001b[0m: Failed to parse: Open   High    Low  Close   Adj Close    Volume\nDate                                                        \n2023-01-03  446.0  453.5  443.0  453.0  445.975525  14885824\n2023-01-04  449.5  455.0  448.5  449.5  442.529785  19188422\n2023-01-05  459.0  459.5  455.0  458.5  451.390259  23549581\n2023-01-06  455.0  459.5  455.0  458.5  451.390259  20886011\n2023-01-09  468.0  481.0  467.5  481.0  473.541321  46666263\n...           ...    ...    ...    ...         ...       ...\n2023-10-06  530.0  533.0  529.0  532.0  532.000000  15336587\n2023-10-11  542.0  544.0  540.0  544.0  544.000000  46639969\n2023-10-12  545.0  550.0  544.0  550.0  550.000000  34161176\n2023-10-13  550.0  554.0  548.0  553.0  553.000000  31123496\n2023-10-16  546.0  547.0  542.0  545.0  545.000000  20222773\n\n[185 rows x 6 columns]",
      "\nDuring handling of the above exception, another exception occurred:\n",
      "\u001b[1;31mInvalidURL\u001b[0m                                Traceback (most recent call last)",
      "\u001b[1;32mc:\\Users\\cccs03\\Desktop\\python\\github\\__11209python_school__\\homework\\test.ipynb 儲存格 1\u001b[0m line \u001b[0;36m1\n\u001b[0;32m      <a href='vscode-notebook-cell:/c%3A/Users/cccs03/Desktop/python/github/__11209python_school__/homework/test.ipynb#W0sZmlsZQ%3D%3D?line=8'>9</a>\u001b[0m     \u001b[39mnext\u001b[39m(csv_reader)\n\u001b[0;32m     <a href='vscode-notebook-cell:/c%3A/Users/cccs03/Desktop/python/github/__11209python_school__/homework/test.ipynb#W0sZmlsZQ%3D%3D?line=9'>10</a>\u001b[0m     \u001b[39mreturn\u001b[39;00m \u001b[39mlist\u001b[39m(csv_reader)\n\u001b[1;32m---> <a href='vscode-notebook-cell:/c%3A/Users/cccs03/Desktop/python/github/__11209python_school__/homework/test.ipynb#W0sZmlsZQ%3D%3D?line=11'>12</a>\u001b[0m data_list \u001b[39m=\u001b[39m download1()\n\u001b[0;32m     <a href='vscode-notebook-cell:/c%3A/Users/cccs03/Desktop/python/github/__11209python_school__/homework/test.ipynb#W0sZmlsZQ%3D%3D?line=12'>13</a>\u001b[0m \u001b[39mprint\u001b[39m(data_list)\n",
      "\u001b[1;32mc:\\Users\\cccs03\\Desktop\\python\\github\\__11209python_school__\\homework\\test.ipynb 儲存格 1\u001b[0m line \u001b[0;36m6\n\u001b[0;32m      <a href='vscode-notebook-cell:/c%3A/Users/cccs03/Desktop/python/github/__11209python_school__/homework/test.ipynb#W0sZmlsZQ%3D%3D?line=3'>4</a>\u001b[0m \u001b[39mdef\u001b[39;00m \u001b[39mdownload1\u001b[39m()\u001b[39m-\u001b[39m\u001b[39m>\u001b[39m\u001b[39mlist\u001b[39m[\u001b[39mlist\u001b[39m]:\n\u001b[0;32m      <a href='vscode-notebook-cell:/c%3A/Users/cccs03/Desktop/python/github/__11209python_school__/homework/test.ipynb#W0sZmlsZQ%3D%3D?line=4'>5</a>\u001b[0m     data \u001b[39m=\u001b[39m yf\u001b[39m.\u001b[39mdownload(\u001b[39m'\u001b[39m\u001b[39m2330.TW\u001b[39m\u001b[39m'\u001b[39m,start\u001b[39m=\u001b[39m\u001b[39m'\u001b[39m\u001b[39m2023-01-01\u001b[39m\u001b[39m'\u001b[39m)\n\u001b[1;32m----> <a href='vscode-notebook-cell:/c%3A/Users/cccs03/Desktop/python/github/__11209python_school__/homework/test.ipynb#W0sZmlsZQ%3D%3D?line=5'>6</a>\u001b[0m     response \u001b[39m=\u001b[39m requests\u001b[39m.\u001b[39;49mrequest(\u001b[39m'\u001b[39;49m\u001b[39mGET\u001b[39;49m\u001b[39m'\u001b[39;49m,data)\n\u001b[0;32m      <a href='vscode-notebook-cell:/c%3A/Users/cccs03/Desktop/python/github/__11209python_school__/homework/test.ipynb#W0sZmlsZQ%3D%3D?line=6'>7</a>\u001b[0m     file \u001b[39m=\u001b[39m io\u001b[39m.\u001b[39mStringIO(response\u001b[39m.\u001b[39mtext)\n\u001b[0;32m      <a href='vscode-notebook-cell:/c%3A/Users/cccs03/Desktop/python/github/__11209python_school__/homework/test.ipynb#W0sZmlsZQ%3D%3D?line=7'>8</a>\u001b[0m     csv_reader \u001b[39m=\u001b[39m csv\u001b[39m.\u001b[39mreader(file)\n",
      "File \u001b[1;32mc:\\Users\\cccs03\\Desktop\\python\\github\\__11209python_school__\\.venv\\lib\\site-packages\\requests\\api.py:59\u001b[0m, in \u001b[0;36mrequest\u001b[1;34m(method, url, **kwargs)\u001b[0m\n\u001b[0;32m     55\u001b[0m \u001b[39m# By using the 'with' statement we are sure the session is closed, thus we\u001b[39;00m\n\u001b[0;32m     56\u001b[0m \u001b[39m# avoid leaving sockets open which can trigger a ResourceWarning in some\u001b[39;00m\n\u001b[0;32m     57\u001b[0m \u001b[39m# cases, and look like a memory leak in others.\u001b[39;00m\n\u001b[0;32m     58\u001b[0m \u001b[39mwith\u001b[39;00m sessions\u001b[39m.\u001b[39mSession() \u001b[39mas\u001b[39;00m session:\n\u001b[1;32m---> 59\u001b[0m     \u001b[39mreturn\u001b[39;00m session\u001b[39m.\u001b[39mrequest(method\u001b[39m=\u001b[39mmethod, url\u001b[39m=\u001b[39murl, \u001b[39m*\u001b[39m\u001b[39m*\u001b[39mkwargs)\n",
      "File \u001b[1;32mc:\\Users\\cccs03\\Desktop\\python\\github\\__11209python_school__\\.venv\\lib\\site-packages\\requests\\sessions.py:575\u001b[0m, in \u001b[0;36mSession.request\u001b[1;34m(self, method, url, params, data, headers, cookies, files, auth, timeout, allow_redirects, proxies, hooks, stream, verify, cert, json)\u001b[0m\n\u001b[0;32m    562\u001b[0m \u001b[39m# Create the Request.\u001b[39;00m\n\u001b[0;32m    563\u001b[0m req \u001b[39m=\u001b[39m Request(\n\u001b[0;32m    564\u001b[0m     method\u001b[39m=\u001b[39mmethod\u001b[39m.\u001b[39mupper(),\n\u001b[0;32m    565\u001b[0m     url\u001b[39m=\u001b[39murl,\n\u001b[1;32m   (...)\u001b[0m\n\u001b[0;32m    573\u001b[0m     hooks\u001b[39m=\u001b[39mhooks,\n\u001b[0;32m    574\u001b[0m )\n\u001b[1;32m--> 575\u001b[0m prep \u001b[39m=\u001b[39m \u001b[39mself\u001b[39;49m\u001b[39m.\u001b[39;49mprepare_request(req)\n\u001b[0;32m    577\u001b[0m proxies \u001b[39m=\u001b[39m proxies \u001b[39mor\u001b[39;00m {}\n\u001b[0;32m    579\u001b[0m settings \u001b[39m=\u001b[39m \u001b[39mself\u001b[39m\u001b[39m.\u001b[39mmerge_environment_settings(\n\u001b[0;32m    580\u001b[0m     prep\u001b[39m.\u001b[39murl, proxies, stream, verify, cert\n\u001b[0;32m    581\u001b[0m )\n",
      "File \u001b[1;32mc:\\Users\\cccs03\\Desktop\\python\\github\\__11209python_school__\\.venv\\lib\\site-packages\\requests\\sessions.py:486\u001b[0m, in \u001b[0;36mSession.prepare_request\u001b[1;34m(self, request)\u001b[0m\n\u001b[0;32m    483\u001b[0m     auth \u001b[39m=\u001b[39m get_netrc_auth(request\u001b[39m.\u001b[39murl)\n\u001b[0;32m    485\u001b[0m p \u001b[39m=\u001b[39m PreparedRequest()\n\u001b[1;32m--> 486\u001b[0m p\u001b[39m.\u001b[39;49mprepare(\n\u001b[0;32m    487\u001b[0m     method\u001b[39m=\u001b[39;49mrequest\u001b[39m.\u001b[39;49mmethod\u001b[39m.\u001b[39;49mupper(),\n\u001b[0;32m    488\u001b[0m     url\u001b[39m=\u001b[39;49mrequest\u001b[39m.\u001b[39;49murl,\n\u001b[0;32m    489\u001b[0m     files\u001b[39m=\u001b[39;49mrequest\u001b[39m.\u001b[39;49mfiles,\n\u001b[0;32m    490\u001b[0m     data\u001b[39m=\u001b[39;49mrequest\u001b[39m.\u001b[39;49mdata,\n\u001b[0;32m    491\u001b[0m     json\u001b[39m=\u001b[39;49mrequest\u001b[39m.\u001b[39;49mjson,\n\u001b[0;32m    492\u001b[0m     headers\u001b[39m=\u001b[39;49mmerge_setting(\n\u001b[0;32m    493\u001b[0m         request\u001b[39m.\u001b[39;49mheaders, \u001b[39mself\u001b[39;49m\u001b[39m.\u001b[39;49mheaders, dict_class\u001b[39m=\u001b[39;49mCaseInsensitiveDict\n\u001b[0;32m    494\u001b[0m     ),\n\u001b[0;32m    495\u001b[0m     params\u001b[39m=\u001b[39;49mmerge_setting(request\u001b[39m.\u001b[39;49mparams, \u001b[39mself\u001b[39;49m\u001b[39m.\u001b[39;49mparams),\n\u001b[0;32m    496\u001b[0m     auth\u001b[39m=\u001b[39;49mmerge_setting(auth, \u001b[39mself\u001b[39;49m\u001b[39m.\u001b[39;49mauth),\n\u001b[0;32m    497\u001b[0m     cookies\u001b[39m=\u001b[39;49mmerged_cookies,\n\u001b[0;32m    498\u001b[0m     hooks\u001b[39m=\u001b[39;49mmerge_hooks(request\u001b[39m.\u001b[39;49mhooks, \u001b[39mself\u001b[39;49m\u001b[39m.\u001b[39;49mhooks),\n\u001b[0;32m    499\u001b[0m )\n\u001b[0;32m    500\u001b[0m \u001b[39mreturn\u001b[39;00m p\n",
      "File \u001b[1;32mc:\\Users\\cccs03\\Desktop\\python\\github\\__11209python_school__\\.venv\\lib\\site-packages\\requests\\models.py:368\u001b[0m, in \u001b[0;36mPreparedRequest.prepare\u001b[1;34m(self, method, url, headers, files, data, params, auth, cookies, hooks, json)\u001b[0m\n\u001b[0;32m    365\u001b[0m \u001b[39m\u001b[39m\u001b[39m\"\"\"Prepares the entire request with the given parameters.\"\"\"\u001b[39;00m\n\u001b[0;32m    367\u001b[0m \u001b[39mself\u001b[39m\u001b[39m.\u001b[39mprepare_method(method)\n\u001b[1;32m--> 368\u001b[0m \u001b[39mself\u001b[39;49m\u001b[39m.\u001b[39;49mprepare_url(url, params)\n\u001b[0;32m    369\u001b[0m \u001b[39mself\u001b[39m\u001b[39m.\u001b[39mprepare_headers(headers)\n\u001b[0;32m    370\u001b[0m \u001b[39mself\u001b[39m\u001b[39m.\u001b[39mprepare_cookies(cookies)\n",
      "File \u001b[1;32mc:\\Users\\cccs03\\Desktop\\python\\github\\__11209python_school__\\.venv\\lib\\site-packages\\requests\\models.py:436\u001b[0m, in \u001b[0;36mPreparedRequest.prepare_url\u001b[1;34m(self, url, params)\u001b[0m\n\u001b[0;32m    434\u001b[0m     scheme, auth, host, port, path, query, fragment \u001b[39m=\u001b[39m parse_url(url)\n\u001b[0;32m    435\u001b[0m \u001b[39mexcept\u001b[39;00m LocationParseError \u001b[39mas\u001b[39;00m e:\n\u001b[1;32m--> 436\u001b[0m     \u001b[39mraise\u001b[39;00m InvalidURL(\u001b[39m*\u001b[39me\u001b[39m.\u001b[39margs)\n\u001b[0;32m    438\u001b[0m \u001b[39mif\u001b[39;00m \u001b[39mnot\u001b[39;00m scheme:\n\u001b[0;32m    439\u001b[0m     \u001b[39mraise\u001b[39;00m MissingSchema(\n\u001b[0;32m    440\u001b[0m         \u001b[39mf\u001b[39m\u001b[39m\"\u001b[39m\u001b[39mInvalid URL \u001b[39m\u001b[39m{\u001b[39;00murl\u001b[39m!r}\u001b[39;00m\u001b[39m: No scheme supplied. \u001b[39m\u001b[39m\"\u001b[39m\n\u001b[0;32m    441\u001b[0m         \u001b[39mf\u001b[39m\u001b[39m\"\u001b[39m\u001b[39mPerhaps you meant https://\u001b[39m\u001b[39m{\u001b[39;00murl\u001b[39m}\u001b[39;00m\u001b[39m?\u001b[39m\u001b[39m\"\u001b[39m\n\u001b[0;32m    442\u001b[0m     )\n",
      "\u001b[1;31mInvalidURL\u001b[0m: Failed to parse: Open   High    Low  Close   Adj Close    Volume\nDate                                                        \n2023-01-03  446.0  453.5  443.0  453.0  445.975525  14885824\n2023-01-04  449.5  455.0  448.5  449.5  442.529785  19188422\n2023-01-05  459.0  459.5  455.0  458.5  451.390259  23549581\n2023-01-06  455.0  459.5  455.0  458.5  451.390259  20886011\n2023-01-09  468.0  481.0  467.5  481.0  473.541321  46666263\n...           ...    ...    ...    ...         ...       ...\n2023-10-06  530.0  533.0  529.0  532.0  532.000000  15336587\n2023-10-11  542.0  544.0  540.0  544.0  544.000000  46639969\n2023-10-12  545.0  550.0  544.0  550.0  550.000000  34161176\n2023-10-13  550.0  554.0  548.0  553.0  553.000000  31123496\n2023-10-16  546.0  547.0  542.0  545.0  545.000000  20222773\n\n[185 rows x 6 columns]"
     ]
    }
   ],
   "source": [
    "import requests,csv,io\n",
    "import yfinance as yf\n",
    "\n",
    "def download1()->list[list]:\n",
    "    data = yf.download('2330.TW',start='2023-01-01')\n",
    "    response = requests.request('GET',data)\n",
    "    file = io.StringIO(response.text)\n",
    "    csv_reader = csv.reader(file)\n",
    "    next(csv_reader)\n",
    "    return list(csv_reader)\n",
    "\n",
    "data_list = download1()\n",
    "print(data_list)"
   ]
  },
  {
   "cell_type": "code",
   "execution_count": null,
   "metadata": {},
   "outputs": [],
   "source": []
  }
 ],
 "metadata": {
  "kernelspec": {
   "display_name": ".venv",
   "language": "python",
   "name": "python3"
  },
  "language_info": {
   "codemirror_mode": {
    "name": "ipython",
    "version": 3
   },
   "file_extension": ".py",
   "mimetype": "text/x-python",
   "name": "python",
   "nbconvert_exporter": "python",
   "pygments_lexer": "ipython3",
   "version": "3.10.8"
  }
 },
 "nbformat": 4,
 "nbformat_minor": 2
}
