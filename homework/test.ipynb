{
 "cells": [
  {
   "cell_type": "code",
   "execution_count": 7,
   "metadata": {},
   "outputs": [
    {
     "name": "stdout",
     "output_type": "stream",
     "text": [
      "[*********************100%%**********************]  1 of 1 completed\n"
     ]
    }
   ],
   "source": [
    "import yfinance as yf\n",
    "import csv\n",
    "import sqlite3\n",
    "\n",
    "data = yf.download('2330.TW',  start='2023-01-01')\n",
    "data.to_csv('tgd.csv')\n",
    "\n",
    "f = open('tgd.text','r')\n",
    "csvreader = csv.reader(f)\n",
    "next(csvreader)\n",
    "final_list = list(csvreader)\n",
    "#print(final_list)\n",
    "\n",
    "def create_table(con):\n",
    "    cursor = con.cursor()\n",
    "    cursor.execute(\n",
    "    '''\n",
    "    CREATE TABLE IF NOT EXISTS 台積電(\n",
    "        'ID'    INTEGER NOT NULL,\n",
    "        '交易日期'  INTEGER NOT NULL,\n",
    "        '開盤價'    INTEGER NOT NULL,\n",
    "        '最高價'    INTEGER NOT NULL,\n",
    "        '最低價'    INTEGER NOT NULL,\n",
    "        '收盤價'    INTEGER NOT NULL,\n",
    "        '經過調整的收盤價'  INTEGER NOT NULL,\n",
    "        '成交量'\tINTEGER,\n",
    "        PRIMARY KEY ('ID' AUTOINCREMENT)\n",
    "    );\n",
    "    '''\n",
    "    )\n",
    "    con.commit()\n",
    "    \n",
    "def insert_data(con,values):\n",
    "    cursor = con.cursor()\n",
    "    sql = '''INSERT INTO 台積電(交易日期,開盤價,最高價,最低價,收盤價,經過調整的收盤價,成交量) VALUES (?,?,?,?,?,?,?)\n",
    "    \n",
    "'''\n",
    "    cursor.execute(sql,values)\n",
    "    con.commit()\n",
    "\n",
    "con = sqlite3.connect('tgd.db')\n",
    "create_table(con)\n",
    "\n",
    "for i in final_list:\n",
    "    insert_data(con,[i[0],i[1],i[2],i[3],i[4],i[5],i[6]])"
   ]
  },
  {
   "cell_type": "code",
   "execution_count": null,
   "metadata": {},
   "outputs": [],
   "source": []
  }
 ],
 "metadata": {
  "kernelspec": {
   "display_name": ".venv",
   "language": "python",
   "name": "python3"
  },
  "language_info": {
   "codemirror_mode": {
    "name": "ipython",
    "version": 3
   },
   "file_extension": ".py",
   "mimetype": "text/x-python",
   "name": "python",
   "nbconvert_exporter": "python",
   "pygments_lexer": "ipython3",
   "version": "3.10.8"
  }
 },
 "nbformat": 4,
 "nbformat_minor": 2
}
