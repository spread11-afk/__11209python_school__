{
 "cells": [
  {
   "cell_type": "code",
   "execution_count": null,
   "metadata": {},
   "outputs": [],
   "source": [
    "import time\n",
    "def countdown(n:int)->None:\n",
    "    while n > 0:\n",
    "        print(f'倒計時:{n}')\n",
    "        n-=1\n",
    "        time.sleep(5)\n",
    "\n",
    "countdown(10)"
   ]
  },
  {
   "cell_type": "code",
   "execution_count": null,
   "metadata": {},
   "outputs": [],
   "source": [
    "import time\n",
    "import threading\n",
    "\n",
    "def countdown(n:int)->None:\n",
    "    while n > 0:\n",
    "        print(f'倒計時:{n}')\n",
    "        n-=1\n",
    "        time.sleep(5)\n",
    "\n",
    "t = threading.Thread(target=countdown,args=(10,))\n",
    "\n",
    "t.start()\n",
    "\n",
    "\n",
    "while t.is_alive():\n",
    "    print('小猴還在做事')\n",
    "    time.sleep(1)\n",
    "else:\n",
    "    print('工作結束')"
   ]
  },
  {
   "cell_type": "code",
   "execution_count": null,
   "metadata": {},
   "outputs": [],
   "source": [
    "import time\n",
    "import threading\n",
    "\n",
    "def countdown(n:int)->None:\n",
    "    while n > 0:\n",
    "        print(f'倒計時:{n}')\n",
    "        n-=1\n",
    "        time.sleep(5)\n",
    "\n",
    "t = threading.Thread(target=countdown,args=(10,))\n",
    "\n",
    "t.start()\n",
    "\n",
    "\n",
    "t.join()\n",
    "print('小猴執行完畢')"
   ]
  },
  {
   "cell_type": "code",
   "execution_count": null,
   "metadata": {},
   "outputs": [],
   "source": [
    "from threading import Timer\n",
    "def countdown(n:int)->None:\n",
    "    if n > 0:\n",
    "        print(f'倒計時{n}')\n",
    "        t = Timer(1,countdown,args=(n-1,))\n",
    "        t.start()\n",
    "    else:\n",
    "        print('小猴執行完畢')\n",
    "countdown(n=10)\n"
   ]
  }
 ],
 "metadata": {
  "kernelspec": {
   "display_name": ".venv",
   "language": "python",
   "name": "python3"
  },
  "language_info": {
   "codemirror_mode": {
    "name": "ipython",
    "version": 3
   },
   "file_extension": ".py",
   "mimetype": "text/x-python",
   "name": "python",
   "nbconvert_exporter": "python",
   "pygments_lexer": "ipython3",
   "version": "3.10.8"
  }
 },
 "nbformat": 4,
 "nbformat_minor": 2
}
