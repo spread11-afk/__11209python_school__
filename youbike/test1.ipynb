{
 "cells": [
  {
   "cell_type": "code",
   "execution_count": 2,
   "metadata": {},
   "outputs": [
    {
     "name": "stdout",
     "output_type": "stream",
     "text": [
      "倒計時:10\n",
      "倒計時:9\n",
      "倒計時:8\n",
      "倒計時:7\n",
      "倒計時:6\n",
      "倒計時:5\n",
      "倒計時:4\n",
      "倒計時:3\n",
      "倒計時:2\n",
      "倒計時:1\n"
     ]
    }
   ],
   "source": [
    "import time\n",
    "def countdown(n:int)->None:\n",
    "    while n > 0:\n",
    "        print(f'倒計時:{n}')\n",
    "        n-=1\n",
    "        time.sleep(5)\n",
    "\n",
    "countdown(10)"
   ]
  },
  {
   "cell_type": "code",
   "execution_count": 7,
   "metadata": {},
   "outputs": [
    {
     "name": "stdout",
     "output_type": "stream",
     "text": [
      "倒計時:10\n"
     ]
    },
    {
     "name": "stdout",
     "output_type": "stream",
     "text": [
      "倒計時:9\n",
      "倒計時:8\n",
      "倒計時:7\n",
      "倒計時:6\n",
      "倒計時:5\n",
      "倒計時:4\n",
      "倒計時:3\n",
      "倒計時:2\n",
      "倒計時:1\n"
     ]
    }
   ],
   "source": [
    "import time\n",
    "import threading\n",
    "\n",
    "def countdown(n:int)->None:\n",
    "    while n > 0:\n",
    "        print(f'倒計時:{n}')\n",
    "        n-=1\n",
    "        time.sleep(5)\n",
    "\n",
    "t = threading.Thread(target=countdown,args=(10,))\n",
    "\n",
    "t.start()"
   ]
  }
 ],
 "metadata": {
  "kernelspec": {
   "display_name": ".venv",
   "language": "python",
   "name": "python3"
  },
  "language_info": {
   "codemirror_mode": {
    "name": "ipython",
    "version": 3
   },
   "file_extension": ".py",
   "mimetype": "text/x-python",
   "name": "python",
   "nbconvert_exporter": "python",
   "pygments_lexer": "ipython3",
   "version": "3.10.8"
  }
 },
 "nbformat": 4,
 "nbformat_minor": 2
}
