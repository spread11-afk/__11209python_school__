{
 "cells": [
  {
   "cell_type": "code",
   "execution_count": 9,
   "metadata": {},
   "outputs": [
    {
     "name": "stdout",
     "output_type": "stream",
     "text": [
      "請輸入收縮壓:130\n",
      "請輸入舒張壓:90\n",
      "高血壓二期\n"
     ]
    }
   ],
   "source": [
    "import pyinputplus as pyip\n",
    "sbp = pyip.inputInt(prompt=\"請輸入收縮壓:\")\n",
    "print(sbp)\n",
    "dbp = pyip.inputInt(prompt=\"請輸入舒張壓:\")\n",
    "print(dbp)\n",
    "\n",
    "\n",
    "status = \"\" # 只有python能用此法\n",
    "if sbp < 120 and dbp<80: \n",
    "    status = \"正常\"\n",
    "elif sbp < 130 and dbp<80:\n",
    "    status = \"血壓升高\"\n",
    "elif sbp < 140 or (dbp>=80 and dbp<90):\n",
    "    status = \"高血壓一期\"\n",
    "elif sbp >= 140 or dbp>=90:\n",
    "    status = \"高血壓二期\"\n",
    "\n",
    "\n",
    "if sbp >= 130 and dbp < 80:\n",
    "    status = \"單純收縮期高血壓\"\n",
    "if dbp>=90:\n",
    "    status = \"高血壓二期\"\n",
    "    print(status)\n"
   ]
  }
 ],
 "metadata": {
  "kernelspec": {
   "display_name": ".venv",
   "language": "python",
   "name": "python3"
  },
  "language_info": {
   "codemirror_mode": {
    "name": "ipython",
    "version": 3
   },
   "file_extension": ".py",
   "mimetype": "text/x-python",
   "name": "python",
   "nbconvert_exporter": "python",
   "pygments_lexer": "ipython3",
   "version": "3.10.8"
  },
  "orig_nbformat": 4
 },
 "nbformat": 4,
 "nbformat_minor": 2
}
