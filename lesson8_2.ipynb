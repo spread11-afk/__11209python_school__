{
 "cells": [
  {
   "cell_type": "code",
   "execution_count": 44,
   "metadata": {},
   "outputs": [
    {
     "name": "stdout",
     "output_type": "stream",
     "text": [
      "請輸入起始值:5\n",
      "請輸入結束值:10\n",
      "5~10=6\n"
     ]
    }
   ],
   "source": [
    "import pyinputplus as pyip\n",
    "\n",
    "start = pyip.inputInt(prompt=\"請輸入起始值:\")\n",
    "print(start)\n",
    "end = pyip.inputInt(prompt=\"請輸入結束值:\")\n",
    "print(end)\n",
    "\n",
    "total = 0\n",
    "for i in range(start,end+1):\n",
    "    total += 1\n",
    "\n",
    "print(f\"{start}~{end}={total}\")"
   ]
  }
 ],
 "metadata": {
  "kernelspec": {
   "display_name": ".venv",
   "language": "python",
   "name": "python3"
  },
  "language_info": {
   "codemirror_mode": {
    "name": "ipython",
    "version": 3
   },
   "file_extension": ".py",
   "mimetype": "text/x-python",
   "name": "python",
   "nbconvert_exporter": "python",
   "pygments_lexer": "ipython3",
   "version": "3.10.8"
  },
  "orig_nbformat": 4
 },
 "nbformat": 4,
 "nbformat_minor": 2
}
