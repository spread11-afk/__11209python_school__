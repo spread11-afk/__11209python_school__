{
 "cells": [
  {
   "cell_type": "code",
   "execution_count": 3,
   "metadata": {},
   "outputs": [],
   "source": [
    "import requests\n",
    "\n",
    "url = 'https://tcgbusfs.blob.core.windows.net/dotapp/youbike/v2/youbike_immediate.json'\n",
    "\n",
    "try:\n",
    "    response = requests.request('GET',url)\n",
    "    response.raise_for_status()\n",
    "except:\n",
    "    print('網路有問題')\n",
    "else:\n",
    "    if response.status_code == 200:\n",
    "        try:\n",
    "            data = response.json()\n",
    "        except requests.JSONDecodeError:\n",
    "            print('無法轉化為json')\n"
   ]
  },
  {
   "cell_type": "code",
   "execution_count": null,
   "metadata": {},
   "outputs": [],
   "source": [
    "for item in data:\n",
    "    print(item)"
   ]
  },
  {
   "cell_type": "code",
   "execution_count": 13,
   "metadata": {},
   "outputs": [
    {
     "data": {
      "text/plain": [
       "<function Connection.commit()>"
      ]
     },
     "execution_count": 13,
     "metadata": {},
     "output_type": "execute_result"
    }
   ],
   "source": [
    "import sqlite3\n",
    "con = sqlite3.connect('youbike.db')\n",
    "cursor = con.cursor()\n",
    "cursor.execute(\n",
    "'''\n",
    "CREATE TABLE   IF NOT EXISTS 台北市(\n",
    "\t\"id\"\tINTEGER,\n",
    "\t\"站點名稱\"\tTEXT NOT NULL,\n",
    "\t\"行政區\"\tTEXT NOT NULL,\n",
    "\t\"更新時間\"\tTEXT NOT NULL,\n",
    "\t\"地址\"\tTEXT,\n",
    "\t\"總車輛數\"\tINTEGER,\n",
    "\t\"可借\"\tINTEGER,\n",
    "\t\"可還\"\tINTEGER,\n",
    "\tPRIMARY KEY(\"id\" AUTOINCREMENT)\n",
    ")\n",
    "\n",
    "'''\n",
    ")\n",
    "con.commit"
   ]
  }
 ],
 "metadata": {
  "kernelspec": {
   "display_name": ".venv",
   "language": "python",
   "name": "python3"
  },
  "language_info": {
   "codemirror_mode": {
    "name": "ipython",
    "version": 3
   },
   "file_extension": ".py",
   "mimetype": "text/x-python",
   "name": "python",
   "nbconvert_exporter": "python",
   "pygments_lexer": "ipython3",
   "version": "3.10.8"
  }
 },
 "nbformat": 4,
 "nbformat_minor": 2
}
