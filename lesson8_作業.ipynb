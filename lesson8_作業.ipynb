{
 "cells": [
  {
   "cell_type": "code",
   "execution_count": null,
   "metadata": {},
   "outputs": [],
   "source": [
    "#求所有因數\n",
    "num = int(input(\"請輸入整數，求所有因數:\"))\n",
    "print(num,\"的因數:\")"
   ]
  },
  {
   "cell_type": "code",
   "execution_count": null,
   "metadata": {},
   "outputs": [],
   "source": [
    "#求公因數\n",
    "print(\"請輸入2數,求2數公因數:\")\n",
    "n = int(input('請輸入第1個數:'))\n",
    "m = int(input('請輸入第2個數:'))"
   ]
  },
  {
   "cell_type": "code",
   "execution_count": null,
   "metadata": {},
   "outputs": [],
   "source": [
    "#2~100,每一個的質數\n",
    "end = int(input(\"請輸入end值:\"))\n",
    "print(f\"1到{end}的質數是:\")"
   ]
  },
  {
   "cell_type": "code",
   "execution_count": null,
   "metadata": {},
   "outputs": [],
   "source": [
    "#猜中要告知猜了幾次\n",
    "#沒猜中要有提醒\n",
    "#import random\n",
    "#min = 1\n",
    "#max = 100\n",
    "#count = 0\n",
    "#target = random.randint(min, max)\n",
    "#print(\"===============猜數字遊戲=================:\\n\")\n",
    "#while(True):\n",
    "   #keyin = input(f\"猜數字範圍{min}~{max}\")\n",
    "#例如:\n",
    "\n",
    "#要猜的數值是:34\n",
    "\n",
    "#猜數字範圍1~100:50\n",
    "#提示:\n",
    "#再小一點\n",
    "#您已經猜了1次\n",
    "\n",
    "#猜數字範圍1~49:10\n",
    "#提示:\n",
    "#再大一點\n",
    "#您已經猜了2次\n",
    "#猜數字範圍11~49:34\n",
    "\n",
    "#您猜中了,答案是34\n",
    "#您總共猜了3次"
   ]
  },
  {
   "cell_type": "code",
   "execution_count": 24,
   "metadata": {},
   "outputs": [
    {
     "name": "stdout",
     "output_type": "stream",
     "text": [
      "請輸入最小值：1\n",
      "請輸入最大值：Blank values are not allowed.\n",
      "請輸入最大值：1\n",
      "1\n"
     ]
    }
   ],
   "source": [
    "import random\n",
    "import pyinputplus as pyip\n",
    "while True:\n",
    "    min = pyip.inputInt(\"請輸入最小值：\")\n",
    "    print(min)\n",
    "    max = pyip.inputInt(\"請輸入最大值：\")\n",
    "    print(max)\n",
    "    target=random.randint(min,max)\n",
    "    if answer == target:\n",
    "        print(\"恭喜答對\")\n",
    "    else:\n",
    "        break\n",
    "    answer = pyip.inputInt(\"請輸入答案\")\n",
    "\n",
    "        \n",
    "    \n",
    "\n",
    "print(target)"
   ]
  }
 ],
 "metadata": {
  "kernelspec": {
   "display_name": ".venv",
   "language": "python",
   "name": "python3"
  },
  "language_info": {
   "name": "python",
   "version": "3.10.8"
  },
  "orig_nbformat": 4
 },
 "nbformat": 4,
 "nbformat_minor": 2
}
