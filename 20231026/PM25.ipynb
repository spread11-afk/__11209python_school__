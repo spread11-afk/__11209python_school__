{
 "cells": [
  {
   "cell_type": "code",
   "execution_count": 10,
   "metadata": {},
   "outputs": [],
   "source": [
    "import requests\n",
    "import threading\n",
    "import sqlite3\n",
    "from password import apikey\n",
    "\n",
    "\n",
    "\n",
    "def download_data() -> dict:\n",
    "    '''\n",
    "    下載資料\n",
    "    '''\n",
    "\n",
    "    pm25_url = f\"https://data.moenv.gov.tw/api/v2/aqx_p_02?language=zh&api_key={apikey}\"\n",
    "    response = requests.get(pm25_url)\n",
    "    response.raise_for_status()\n",
    "    return response.json()\n",
    "data = download_data()\n",
    "\n",
    "    "
   ]
  },
  {
   "cell_type": "code",
   "execution_count": 11,
   "metadata": {},
   "outputs": [
    {
     "name": "stdout",
     "output_type": "stream",
     "text": [
      "fields\n",
      "resource_id\n",
      "__extras\n",
      "include_total\n",
      "total\n",
      "resource_format\n",
      "limit\n",
      "offset\n",
      "_links\n",
      "records\n"
     ]
    }
   ],
   "source": [
    "for i in data:\n",
    "    print(i)"
   ]
  }
 ],
 "metadata": {
  "kernelspec": {
   "display_name": ".venv",
   "language": "python",
   "name": "python3"
  },
  "language_info": {
   "codemirror_mode": {
    "name": "ipython",
    "version": 3
   },
   "file_extension": ".py",
   "mimetype": "text/x-python",
   "name": "python",
   "nbconvert_exporter": "python",
   "pygments_lexer": "ipython3",
   "version": "3.10.8"
  }
 },
 "nbformat": 4,
 "nbformat_minor": 2
}
