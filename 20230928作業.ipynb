{
 "cells": [
  {
   "cell_type": "code",
   "execution_count": null,
   "metadata": {},
   "outputs": [],
   "source": [
    "list =[\"徐國堂\",5,3,3,5]\n",
    "list"
   ]
  },
  {
   "cell_type": "code",
   "execution_count": null,
   "metadata": {},
   "outputs": [],
   "source": [
    "list[0],list[1],list[2],list[3],list[4],"
   ]
  },
  {
   "cell_type": "code",
   "execution_count": null,
   "metadata": {},
   "outputs": [],
   "source": [
    "list1 = [\"徐國堂\", 5, 3, 3, 5]\n",
    "list1"
   ]
  },
  {
   "cell_type": "code",
   "execution_count": null,
   "metadata": {},
   "outputs": [],
   "source": [
    "list1[0] , list1[1], list1[2], list1[3], list1[4]"
   ]
  },
  {
   "cell_type": "code",
   "execution_count": null,
   "metadata": {},
   "outputs": [],
   "source": [
    "dict1 = {'name':'徐國堂',\n",
    "         'dice1':5,\n",
    "         'dice2':3,\n",
    "         'dice3':3,\n",
    "         'dice4':5}\n",
    "\n",
    "dict1"
   ]
  },
  {
   "cell_type": "code",
   "execution_count": null,
   "metadata": {},
   "outputs": [],
   "source": [
    "dict1['name'], dict1['dice1'], dict1['dice2'], dict1['dice3'], dict1['dice4']"
   ]
  },
  {
   "cell_type": "code",
   "execution_count": null,
   "metadata": {},
   "outputs": [],
   "source": [
    "print(dict1['name'])"
   ]
  },
  {
   "cell_type": "code",
   "execution_count": null,
   "metadata": {},
   "outputs": [],
   "source": [
    "import random\n",
    "\n",
    "class Player:\n",
    "    def __init__(self):\n",
    "        pass\n",
    "\n",
    "    def __play() -> int:\n",
    "        pass\n",
    "\n",
    "    @property\n",
    "    def value(self) -> int:\n",
    "        #呼叫self.__play()\n",
    "        pass\n",
    "\n",
    "    def __repr__(self) -> str:\n",
    "        descript = \"\"\n",
    "        descript += \"徐國堂\\n\"\n",
    "        descript += \"骰子1=5\\n\"\n",
    "        descript += \"骰子2=3\\n\"\n",
    "        descript += \"骰子3=5\\n\"\n",
    "        descript += \"骰子4=5\\n\"\n",
    "        dsecript += \"得分=15分\"\n",
    "        return descript\n",
    "    \n",
    "if __name__ == \"__main__\":\n",
    "    p1 = Player(\"robert\")\n",
    "    print(p1.value)\n",
    "    print(p1)\n",
    "\n",
    "    p2 = Player(\"robert\")\n",
    "    print(p2.value)\n",
    "    print(p2)"
   ]
  },
  {
   "cell_type": "code",
   "execution_count": 7,
   "metadata": {},
   "outputs": [
    {
     "ename": "TypeError",
     "evalue": "Player.__init__() takes 1 positional argument but 2 were given",
     "output_type": "error",
     "traceback": [
      "\u001b[1;31m---------------------------------------------------------------------------\u001b[0m",
      "\u001b[1;31mTypeError\u001b[0m                                 Traceback (most recent call last)",
      "\u001b[1;32mc:\\github\\__11209python_school__\\20230928作業.ipynb 儲存格 9\u001b[0m line \u001b[0;36m2\n\u001b[0;32m     <a href='vscode-notebook-cell:/c%3A/github/__11209python_school__/20230928%E4%BD%9C%E6%A5%AD.ipynb#X11sZmlsZQ%3D%3D?line=21'>22</a>\u001b[0m         \u001b[39mreturn\u001b[39;00m descript\n\u001b[0;32m     <a href='vscode-notebook-cell:/c%3A/github/__11209python_school__/20230928%E4%BD%9C%E6%A5%AD.ipynb#X11sZmlsZQ%3D%3D?line=23'>24</a>\u001b[0m \u001b[39mif\u001b[39;00m \u001b[39m__name__\u001b[39m \u001b[39m==\u001b[39m \u001b[39m\"\u001b[39m\u001b[39m__main__\u001b[39m\u001b[39m\"\u001b[39m:\n\u001b[1;32m---> <a href='vscode-notebook-cell:/c%3A/github/__11209python_school__/20230928%E4%BD%9C%E6%A5%AD.ipynb#X11sZmlsZQ%3D%3D?line=24'>25</a>\u001b[0m     p1 \u001b[39m=\u001b[39m Player(\u001b[39m\"\u001b[39;49m\u001b[39mrobert\u001b[39;49m\u001b[39m\"\u001b[39;49m)\n\u001b[0;32m     <a href='vscode-notebook-cell:/c%3A/github/__11209python_school__/20230928%E4%BD%9C%E6%A5%AD.ipynb#X11sZmlsZQ%3D%3D?line=25'>26</a>\u001b[0m     \u001b[39mprint\u001b[39m(p1\u001b[39m.\u001b[39mvalue)\n\u001b[0;32m     <a href='vscode-notebook-cell:/c%3A/github/__11209python_school__/20230928%E4%BD%9C%E6%A5%AD.ipynb#X11sZmlsZQ%3D%3D?line=26'>27</a>\u001b[0m     \u001b[39mprint\u001b[39m(p1)\n",
      "\u001b[1;31mTypeError\u001b[0m: Player.__init__() takes 1 positional argument but 2 were given"
     ]
    }
   ],
   "source": [
    "import random\n",
    "sibara = []\n",
    "count = 0\n",
    "\n",
    "\n",
    "\n",
    "class Player:\n",
    "    def __init__(self):\n",
    "        pass\n",
    "\n",
    "    def __play(self) -> float:\n",
    "\n",
    " while True:\n",
    "                    count += 1\n",
    "                    i=int(random.randint(1,6))\n",
    "                    sibara.append(i)\n",
    "                    if count !=4:\n",
    "                        continue\n",
    "                    else:\n",
    "                        break\n",
    "            \n",
    "    print(sibara)\n",
    "\n",
    "    @property\n",
    "    def value(self) -> int:\n",
    "        #呼叫self.__play()\n",
    "        pass\n",
    "\n",
    "    def __repr__(self) -> str:\n",
    "        descript = \"\"\n",
    "        descript += \"徐國堂\\n\"\n",
    "        descript += \"骰子1=5\\n\"\n",
    "        descript += \"骰子2=3\\n\"\n",
    "        descript += \"骰子3=5\\n\"\n",
    "        descript += \"骰子4=5\\n\"\n",
    "        dsecript += \"得分=15分\"\n",
    "        return descript\n",
    "    \n",
    "if __name__ == \"__main__\":\n",
    "    p1 = Player(\"robert\")\n",
    "    print(p1.value)\n",
    "    print(p1)\n",
    "\n",
    "    p2 = Player(\"robert\")\n",
    "    print(p2.value)\n",
    "    print(p2)\n",
    "\n"
   ]
  },
  {
   "cell_type": "code",
   "execution_count": 10,
   "metadata": {},
   "outputs": [
    {
     "name": "stdout",
     "output_type": "stream",
     "text": [
      "[2, 3, 3, 5]\n",
      "7\n",
      "<property object at 0x000001C81DC88950>\n"
     ]
    }
   ],
   "source": [
    "def __play(self):\n",
    "    while True:\n",
    "        count += 1\n",
    "        i=int(random.randint(1,6))\n",
    "        sibara.append(i)\n",
    "        if count !=4:\n",
    "            continue\n",
    "        else:\n",
    "            break\n",
    "\n",
    "print(sibara)\n",
    "if sibara[0] == sibara[1] and sibara[0] == sibara[2] and sibara[0] == sibara[3] :\n",
    "    print('豹子')\n",
    "elif sibara[0] == sibara[3] and sibara[0] == sibara[2]:\n",
    "    print('作廢')\n",
    "elif sibara[1] == sibara[3] and sibara[0] == sibara[2]:\n",
    "    print('作廢')\n",
    "elif sibara[1] == sibara[3] and sibara[1] == sibara[2]:\n",
    "    print('作廢')\n",
    "elif sibara[0] == sibara[1] and sibara[0] == sibara[3]:\n",
    "    print('作廢')\n",
    "elif sibara[0] == sibara[1] and sibara[2] == sibara[3] :\n",
    "    print(max(sibara)*2)\n",
    "elif sibara[0] == sibara[2] and sibara[1] == sibara[3] :\n",
    "    print(max(sibara)*2)\n",
    "elif sibara[0] == sibara[3] and sibara[1] == sibara[2] :\n",
    "    print(max(sibara)*2)\n",
    "elif sibara[0] == sibara[2] and sibara[1] == sibara[3] :\n",
    "    print('作廢')\n",
    "elif sibara[0] == sibara[3] and sibara[1] == sibara[2] :\n",
    "    print('作廢')\n",
    "elif sibara[0] == sibara[1] and sibara[0] == sibara[2] :\n",
    "    print('作廢')\n",
    "elif sibara[0] == sibara[1]:\n",
    "    print(sibara[2]+sibara[3])\n",
    "elif sibara[0] == sibara[2]:\n",
    "    print(sibara[1]+sibara[3])\n",
    "elif sibara[0] == sibara[3]:\n",
    "    print(sibara[1]+sibara[2])\n",
    "elif sibara[1] == sibara[2]:\n",
    "    print(sibara[0]+sibara[3])\n",
    "elif sibara[1] == sibara[3]:\n",
    "    print(sibara[0]+sibara[2])\n",
    "elif sibara[2] == sibara[3]:\n",
    "    print(sibara[1]+sibara[0])\n",
    "else:\n",
    "    print('作廢')\n",
    "\n",
    "@property\n",
    "def play(self):\n",
    "    return self.__play()\n",
    "\n",
    "\n",
    "    "
   ]
  }
 ],
 "metadata": {
  "kernelspec": {
   "display_name": ".venv",
   "language": "python",
   "name": "python3"
  },
  "language_info": {
   "codemirror_mode": {
    "name": "ipython",
    "version": 3
   },
   "file_extension": ".py",
   "mimetype": "text/x-python",
   "name": "python",
   "nbconvert_exporter": "python",
   "pygments_lexer": "ipython3",
   "version": "3.10.8"
  },
  "orig_nbformat": 4
 },
 "nbformat": 4,
 "nbformat_minor": 2
}
