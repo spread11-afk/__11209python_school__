{
 "cells": [
  {
   "cell_type": "code",
   "execution_count": 5,
   "metadata": {},
   "outputs": [
    {
     "data": {
      "text/plain": [
       "['徐國堂', 5, 3, 3, 5]"
      ]
     },
     "execution_count": 5,
     "metadata": {},
     "output_type": "execute_result"
    }
   ],
   "source": [
    "list =[\"徐國堂\",5,3,3,5]\n",
    "list"
   ]
  },
  {
   "cell_type": "code",
   "execution_count": 6,
   "metadata": {},
   "outputs": [
    {
     "data": {
      "text/plain": [
       "('徐國堂', 5, 3, 3, 5)"
      ]
     },
     "execution_count": 6,
     "metadata": {},
     "output_type": "execute_result"
    }
   ],
   "source": [
    "list[0],list[1],list[2],list[3],list[4],"
   ]
  },
  {
   "cell_type": "code",
   "execution_count": 7,
   "metadata": {},
   "outputs": [
    {
     "data": {
      "text/plain": [
       "['徐國堂', 5, 3, 3, 5]"
      ]
     },
     "execution_count": 7,
     "metadata": {},
     "output_type": "execute_result"
    }
   ],
   "source": [
    "list1 = [\"徐國堂\", 5, 3, 3, 5]\n",
    "list1"
   ]
  },
  {
   "cell_type": "code",
   "execution_count": 8,
   "metadata": {},
   "outputs": [
    {
     "data": {
      "text/plain": [
       "('徐國堂', 5, 3, 3, 5)"
      ]
     },
     "execution_count": 8,
     "metadata": {},
     "output_type": "execute_result"
    }
   ],
   "source": [
    "list1[0] , list1[1], list1[2], list1[3], list1[4]"
   ]
  },
  {
   "cell_type": "code",
   "execution_count": 9,
   "metadata": {},
   "outputs": [
    {
     "data": {
      "text/plain": [
       "{'name': '徐國堂', 'dice1': 5, 'dice2': 3, 'dice3': 3, 'dice4': 5}"
      ]
     },
     "execution_count": 9,
     "metadata": {},
     "output_type": "execute_result"
    }
   ],
   "source": [
    "dict1 = {'name':'徐國堂',\n",
    "         'dice1':5,\n",
    "         'dice2':3,\n",
    "         'dice3':3,\n",
    "         'dice4':5}\n",
    "\n",
    "dict1"
   ]
  },
  {
   "cell_type": "code",
   "execution_count": 2,
   "metadata": {},
   "outputs": [
    {
     "data": {
      "text/plain": [
       "('徐國堂', 5, 3, 3, 5)"
      ]
     },
     "execution_count": 2,
     "metadata": {},
     "output_type": "execute_result"
    }
   ],
   "source": [
    "dict1['name'], dict1['dice1'], dict1['dice2'], dict1['dice3'], dict1['dice4']"
   ]
  },
  {
   "cell_type": "code",
   "execution_count": 3,
   "metadata": {},
   "outputs": [
    {
     "name": "stdout",
     "output_type": "stream",
     "text": [
      "徐國堂\n"
     ]
    }
   ],
   "source": [
    "print(dict1['name'])"
   ]
  },
  {
   "cell_type": "code",
   "execution_count": 10,
   "metadata": {},
   "outputs": [
    {
     "ename": "TypeError",
     "evalue": "Player.__init__() takes 1 positional argument but 2 were given",
     "output_type": "error",
     "traceback": [
      "\u001b[1;31m---------------------------------------------------------------------------\u001b[0m",
      "\u001b[1;31mTypeError\u001b[0m                                 Traceback (most recent call last)",
      "\u001b[1;32mc:\\Users\\User\\Desktop\\Python\\GitHub\\__11209python_school__\\20230928作業.ipynb 儲存格 8\u001b[0m line \u001b[0;36m2\n\u001b[0;32m     <a href='vscode-notebook-cell:/c%3A/Users/User/Desktop/Python/GitHub/__11209python_school__/20230928%E4%BD%9C%E6%A5%AD.ipynb#X10sZmlsZQ%3D%3D?line=22'>23</a>\u001b[0m         \u001b[39mreturn\u001b[39;00m descript\n\u001b[0;32m     <a href='vscode-notebook-cell:/c%3A/Users/User/Desktop/Python/GitHub/__11209python_school__/20230928%E4%BD%9C%E6%A5%AD.ipynb#X10sZmlsZQ%3D%3D?line=24'>25</a>\u001b[0m \u001b[39mif\u001b[39;00m \u001b[39m__name__\u001b[39m \u001b[39m==\u001b[39m \u001b[39m\"\u001b[39m\u001b[39m__main__\u001b[39m\u001b[39m\"\u001b[39m:\n\u001b[1;32m---> <a href='vscode-notebook-cell:/c%3A/Users/User/Desktop/Python/GitHub/__11209python_school__/20230928%E4%BD%9C%E6%A5%AD.ipynb#X10sZmlsZQ%3D%3D?line=25'>26</a>\u001b[0m     p1 \u001b[39m=\u001b[39m Player(\u001b[39m\"\u001b[39;49m\u001b[39mrobert\u001b[39;49m\u001b[39m\"\u001b[39;49m)\n\u001b[0;32m     <a href='vscode-notebook-cell:/c%3A/Users/User/Desktop/Python/GitHub/__11209python_school__/20230928%E4%BD%9C%E6%A5%AD.ipynb#X10sZmlsZQ%3D%3D?line=26'>27</a>\u001b[0m     \u001b[39mprint\u001b[39m(p1\u001b[39m.\u001b[39mvalue)\n\u001b[0;32m     <a href='vscode-notebook-cell:/c%3A/Users/User/Desktop/Python/GitHub/__11209python_school__/20230928%E4%BD%9C%E6%A5%AD.ipynb#X10sZmlsZQ%3D%3D?line=27'>28</a>\u001b[0m     \u001b[39mprint\u001b[39m(p1)\n",
      "\u001b[1;31mTypeError\u001b[0m: Player.__init__() takes 1 positional argument but 2 were given"
     ]
    }
   ],
   "source": [
    "import random\n",
    "\n",
    "class Player:\n",
    "    def __init__(self):\n",
    "        pass\n",
    "\n",
    "    def __play() -> int:\n",
    "        pass\n",
    "\n",
    "    @property\n",
    "    def value(self) -> int:\n",
    "        #呼叫self.__play()\n",
    "        pass\n",
    "\n",
    "    def __repr__(self) -> str:\n",
    "        descript = \"\"\n",
    "        descript += \"徐國堂\\n\"\n",
    "        descript += \"骰子1=5\\n\"\n",
    "        descript += \"骰子2=3\\n\"\n",
    "        descript += \"骰子3=5\\n\"\n",
    "        descript += \"骰子4=5\\n\"\n",
    "        dsecript += \"得分=15分\"\n",
    "        return descript\n",
    "    \n",
    "if __name__ == \"__main__\":\n",
    "    p1 = Player(\"robert\")\n",
    "    print(p1.value)\n",
    "    print(p1)\n",
    "\n",
    "    p2 = Player(\"robert\")\n",
    "    print(p2.value)\n",
    "    print(p2)"
   ]
  },
  {
   "cell_type": "code",
   "execution_count": 12,
   "metadata": {},
   "outputs": [
    {
     "ename": "IndentationError",
     "evalue": "unindent does not match any outer indentation level (<tokenize>, line 13)",
     "output_type": "error",
     "traceback": [
      "\u001b[1;36m  File \u001b[1;32m<tokenize>:13\u001b[1;36m\u001b[0m\n\u001b[1;33m    while True:\u001b[0m\n\u001b[1;37m    ^\u001b[0m\n\u001b[1;31mIndentationError\u001b[0m\u001b[1;31m:\u001b[0m unindent does not match any outer indentation level\n"
     ]
    }
   ],
   "source": [
    "import random\n",
    "sibara = []\n",
    "count = 0\n",
    "\n",
    "\n",
    "\n",
    "class Player:\n",
    "    def __init__(self):\n",
    "        pass\n",
    "\n",
    "    def __play(self) -> float:\n",
    "\n",
    " while True:\n",
    "                    count += 1\n",
    "                    i=int(random.randint(1,6))\n",
    "                    sibara.append(i)\n",
    "                    if count !=4:\n",
    "                        continue\n",
    "                    else:\n",
    "                        break\n",
    "            \n",
    "    print(sibara)\n",
    "\n",
    "    @property\n",
    "    def value(self) -> int:\n",
    "        #呼叫self.__play()\n",
    "        pass\n",
    "\n",
    "    def __repr__(self) -> str:\n",
    "        descript = \"\"\n",
    "        descript += \"徐國堂\\n\"\n",
    "        descript += \"骰子1=5\\n\"\n",
    "        descript += \"骰子2=3\\n\"\n",
    "        descript += \"骰子3=5\\n\"\n",
    "        descript += \"骰子4=5\\n\"\n",
    "        dsecript += \"得分=15分\"\n",
    "        return descript\n",
    "    \n",
    "if __name__ == \"__main__\":\n",
    "    p1 = Player(\"robert\")\n",
    "    print(p1.value)\n",
    "    print(p1)\n",
    "\n",
    "    p2 = Player(\"robert\")\n",
    "    print(p2.value)\n",
    "    print(p2)\n",
    "\n"
   ]
  },
  {
   "cell_type": "code",
   "execution_count": 30,
   "metadata": {},
   "outputs": [
    {
     "name": "stdout",
     "output_type": "stream",
     "text": [
      "[]\n"
     ]
    }
   ],
   "source": [
    "import random\n",
    "sibara = []\n",
    "count = 0\n",
    "\n",
    "class Game:\n",
    "\n",
    "    def __play(self) ->int:\n",
    "        while True:\n",
    "            count += 1\n",
    "            i=int(random.randint(1,6))\n",
    "            sibara.append(i)\n",
    "            if count !=4:\n",
    "                continue\n",
    "            else:\n",
    "                break\n",
    "        print(sibara)\n",
    "\n",
    "        if sibara[0] == sibara[1] and sibara[0] == sibara[2] and sibara[0] == sibara[3] :\n",
    "            print('豹子')\n",
    "        elif sibara[0] == sibara[3] and sibara[0] == sibara[2]:\n",
    "            print('作廢')\n",
    "        elif sibara[1] == sibara[3] and sibara[0] == sibara[2]:\n",
    "            print('作廢')\n",
    "        elif sibara[1] == sibara[3] and sibara[1] == sibara[2]:\n",
    "            print('作廢')\n",
    "        elif sibara[0] == sibara[1] and sibara[0] == sibara[3]:\n",
    "            print('作廢')\n",
    "        elif sibara[0] == sibara[1] and sibara[2] == sibara[3] :\n",
    "            print(max(sibara)*2)\n",
    "        elif sibara[0] == sibara[2] and sibara[1] == sibara[3] :\n",
    "            print(max(sibara)*2)\n",
    "        elif sibara[0] == sibara[3] and sibara[1] == sibara[2] :\n",
    "            print(max(sibara)*2)\n",
    "        elif sibara[0] == sibara[2] and sibara[1] == sibara[3] :\n",
    "            print('作廢')\n",
    "        elif sibara[0] == sibara[3] and sibara[1] == sibara[2] :\n",
    "            print('作廢')\n",
    "        elif sibara[0] == sibara[1] and sibara[0] == sibara[2] :\n",
    "            print('作廢')\n",
    "        elif sibara[0] == sibara[1]:\n",
    "            print(sibara[2]+sibara[3])\n",
    "        elif sibara[0] == sibara[2]:\n",
    "            print(sibara[1]+sibara[3])\n",
    "        elif sibara[0] == sibara[3]:\n",
    "            print(sibara[1]+sibara[2])\n",
    "        elif sibara[1] == sibara[2]:\n",
    "            print(sibara[0]+sibara[3])\n",
    "        elif sibara[1] == sibara[3]:\n",
    "            print(sibara[0]+sibara[2])\n",
    "        elif sibara[2] == sibara[3]:\n",
    "            print(sibara[1]+sibara[0])\n",
    "        else:\n",
    "            print('作廢')\n",
    "          \n",
    "    @property\n",
    "    def play(self) -> int :\n",
    "        return self.__play(self)\n",
    "print(sibara)\n",
    "\n",
    "    "
   ]
  },
  {
   "cell_type": "code",
   "execution_count": 23,
   "metadata": {},
   "outputs": [
    {
     "name": "stdout",
     "output_type": "stream",
     "text": [
      "Robert\n",
      "骰子1=1\n",
      "骰子2=4\n",
      "骰子3=3\n",
      "骰子4=3\n",
      "得分=5分\n",
      "John\n",
      "骰子1=6\n",
      "骰子2=6\n",
      "骰子3=3\n",
      "骰子4=4\n",
      "得分=7分\n",
      "遊戲结束\n"
     ]
    }
   ],
   "source": [
    "import random\n",
    "import statistics\n",
    "\n",
    "class Player:\n",
    "    def __init__(self, name):\n",
    "        self.__dice1 = 0\n",
    "        self.__dice2 = 0\n",
    "        self.__dice3 = 0\n",
    "        self.__dice4 = 0\n",
    "        self.name = name\n",
    "\n",
    "    def __play(self) -> int:\n",
    "        Dice = [self.__dice1, self.__dice2, self.__dice3, self.__dice4]\n",
    "\n",
    "        if len(set(Dice)) == 1:\n",
    "            dict={0:0,1:13,2:14,3:15,4:16,5:17,6:18}\n",
    "            score=dict.get(Dice[0])\n",
    "        elif len(set(Dice)) == 4:\n",
    "            score = 0\n",
    "        elif Dice.count(Dice[0]) == 3 or Dice.count(Dice[1]) == 3:\n",
    "            score = 0\n",
    "        else:\n",
    "            score = sum(Dice) - min(statistics.multimode(Dice)) * 2\n",
    "\n",
    "        return score\n",
    "\n",
    "    @property\n",
    "    def value(self) -> int:\n",
    "        return self.__play()\n",
    "\n",
    "    def roll_dice(self):\n",
    "        self.__dice1 = random.randint(1, 6)\n",
    "        self.__dice2 = random.randint(1, 6)\n",
    "        self.__dice3 = random.randint(1, 6)\n",
    "        self.__dice4 = random.randint(1, 6)\n",
    "\n",
    "    def __repr__(self) -> str:\n",
    "        descript = \"\"\n",
    "        descript += f\"{self.name}\\n\"\n",
    "        descript += f\"骰子1={self.__dice1}\\n\"\n",
    "        descript += f\"骰子2={self.__dice2}\\n\"\n",
    "        descript += f\"骰子3={self.__dice3}\\n\"\n",
    "        descript += f\"骰子4={self.__dice4}\\n\"\n",
    "        descript += f\"得分={self.value}分\"\n",
    "        return descript\n",
    "\n",
    "def main():\n",
    "    p1 = Player(\"Robert\")\n",
    "    p2 = Player(\"John\")\n",
    "\n",
    "    while p1.value == 0:\n",
    "        p1.roll_dice()\n",
    "    while p2.value == 0:\n",
    "        p2.roll_dice()\n",
    "\n",
    "    print(p1)\n",
    "    print(p2)\n",
    "\n",
    "    print(\"遊戲结束\")\n",
    "\n",
    "if __name__ == \"__main__\":\n",
    "    main()"
   ]
  },
  {
   "cell_type": "code",
   "execution_count": 1,
   "metadata": {},
   "outputs": [
    {
     "name": "stdout",
     "output_type": "stream",
     "text": [
      "set()\n",
      "{1, 2, 3, 4, 5}\n",
      "{20, 21, 22, 23, 24, 25, 26, 27, 28, 29}\n",
      "{40, 10, 50, 20, 30}\n",
      "{1, 2, 3}\n"
     ]
    }
   ],
   "source": [
    "set1 = set()# 建立空的集合\n",
    "\n",
    "set2 = {1, 2, 3, 4, 5}\n",
    "\n",
    "# 從串列 (List) 來建立集合\n",
    "set3 = set([i for i in range(20, 30)])\n",
    "\n",
    "# 從數組 (Tuple) 來建立集合\n",
    "set4 = set((10, 20, 30, 40, 50))\n",
    "\n",
    "# 集合不會包含重複的資料, 你可以從 set5 印出來的結果得知\n",
    "set5 = set((1, 1, 1, 2, 2, 3))\n",
    "\n",
    "print(set1)\n",
    "print(set2)\n",
    "print(set3)\n",
    "print(set4)\n",
    "print(set5)"
   ]
  },
  {
   "cell_type": "code",
   "execution_count": 10,
   "metadata": {},
   "outputs": [
    {
     "name": "stdout",
     "output_type": "stream",
     "text": [
      "5\n"
     ]
    }
   ],
   "source": [
    "set4 = len(set((10, 20, 30, 40, 50)))\n",
    "print(set4)"
   ]
  },
  {
   "cell_type": "code",
   "execution_count": 18,
   "metadata": {},
   "outputs": [],
   "source": [
    "dict={0:0,1:13,2:14,3:15,4:16,5:17,6:18}\n",
    "dict.get(dict[1])"
   ]
  },
  {
   "cell_type": "code",
   "execution_count": null,
   "metadata": {},
   "outputs": [],
   "source": [
    "import random\n",
    "\n",
    "class Player:\n",
    "#attribute\n",
    "    def __init__(self, name:str):\n",
    "        self.name = name\n",
    "#method\n",
    "    def __play(self):\n",
    "        score = ''\n",
    "        while score == '':   \n",
    "            dice1 = random.randint(1,6)\n",
    "            dice2 = random.randint(1,6)\n",
    "            dice3 = random.randint(1,6)\n",
    "            dice4 = random.randint(1,6) \n",
    "            D = sorted([dice1, dice2, dice3, dice4])\n",
    "            if (D[0] == D[1] == D[2] == D[3]):\n",
    "                score = D[0] + 12\n",
    "            elif (D[0] != D[1] != D[2] != D[3]):\n",
    "                score = ''\n",
    "            elif (D[0] == D[1] == D[2]) or (D[1] == D[2] == D[3]): \n",
    "                score = ''\n",
    "            else:\n",
    "                if D[0] == D[1]:\n",
    "                    score = D[2] + D[3]\n",
    "                elif D[1] == D[2]:\n",
    "                    score = D[0] + D[3]\n",
    "                elif D[2] == D[3]:\n",
    "                    score = D[0] + D[1] \n",
    "        \n",
    "        return f'骰子一:{dice1} 骰子二:{dice2} 骰子三:{dice3} 骰子四:{dice4}\\n{D}\\n得分:{score}'\n",
    "\n",
    "#property\n",
    "    @property\n",
    "    def value(self):\n",
    "        return self.__play()\n",
    "\n",
    "#被呼叫時傳出字串\n",
    "    def __repr__(self) -> str:\n",
    "        descript = f\"姓名:{self.name}\"\n",
    "        return descript\n",
    "\n",
    "\n",
    "p1 = Player('甲')\n",
    "print(p1)\n",
    "print(p1.value)\n",
    "print()\n",
    "p2 = Player('乙')\n",
    "print(p2)\n",
    "print(p2.value)"
   ]
  },
  {
   "cell_type": "code",
   "execution_count": 20,
   "metadata": {},
   "outputs": [
    {
     "data": {
      "text/plain": [
       "True"
      ]
     },
     "execution_count": 20,
     "metadata": {},
     "output_type": "execute_result"
    }
   ],
   "source": [
    "1==1!=2"
   ]
  }
 ],
 "metadata": {
  "kernelspec": {
   "display_name": ".venv",
   "language": "python",
   "name": "python3"
  },
  "language_info": {
   "codemirror_mode": {
    "name": "ipython",
    "version": 3
   },
   "file_extension": ".py",
   "mimetype": "text/x-python",
   "name": "python",
   "nbconvert_exporter": "python",
   "pygments_lexer": "ipython3",
   "version": "3.10.8"
  },
  "orig_nbformat": 4
 },
 "nbformat": 4,
 "nbformat_minor": 2
}
