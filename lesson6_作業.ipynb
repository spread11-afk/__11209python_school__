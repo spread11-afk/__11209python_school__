{
 "cells": [
  {
   "cell_type": "code",
   "execution_count": 4,
   "metadata": {},
   "outputs": [
    {
     "name": "stdout",
     "output_type": "stream",
     "text": [
      "請輸入學生分數:59\n",
      "丁\n"
     ]
    }
   ],
   "source": [
    "\n",
    "# 作業\n",
    "# 90(含)~100分為「優」\n",
    "# 80(含)~89分為「甲」\n",
    "# 70(含)~79分為「乙」\n",
    "# 60(含)~69分為「丙」\n",
    "# 0(含)~59分為「丁」\n",
    "import pyinputplus as pyip\n",
    "score = pyip.inputInt(\"請輸入學生分數:\",min=0,max=100)\n",
    "print(score)\n",
    "# 巢狀結構\n",
    "if score>=90:\n",
    "    print('優')\n",
    "else:\n",
    "    if score>=80:\n",
    "        print('甲')\n",
    "    else:\n",
    "        if score>=70:\n",
    "            print('乙')\n",
    "        else:\n",
    "            if score>=60:\n",
    "                print('丙')\n",
    "            else:\n",
    "                if score<=59:\n",
    "                    print('丁')\n",
    "\n",
    "\n"
   ]
  },
  {
   "cell_type": "code",
   "execution_count": 5,
   "metadata": {},
   "outputs": [
    {
     "name": "stdout",
     "output_type": "stream",
     "text": [
      "請輸入學生分數:59\n",
      "丁\n"
     ]
    }
   ],
   "source": [
    "\n",
    "# 作業\n",
    "# 90(含)~100分為「優」\n",
    "# 80(含)~89分為「甲」\n",
    "# 70(含)~79分為「乙」\n",
    "# 60(含)~69分為「丙」\n",
    "# 0(含)~59分為「丁」\n",
    "import pyinputplus as pyip\n",
    "score = pyip.inputInt(\"請輸入學生分數:\",min=0,max=100)\n",
    "print(score)\n",
    "# 多項選擇\n",
    "if score>=90:\n",
    "    print('優')\n",
    "elif score>=80:\n",
    "    print('甲')\n",
    "elif score>=70:\n",
    "    print('乙')\n",
    "elif score>=60:\n",
    "    print('丙')\n",
    "elif score<=59:\n",
    "    print('丁')\n",
    "\n",
    "\n"
   ]
  },
  {
   "cell_type": "code",
   "execution_count": 17,
   "metadata": {},
   "outputs": [
    {
     "name": "stdout",
     "output_type": "stream",
     "text": [
      "請輸入購買金額:9999\n",
      "實付金額: 9999\n"
     ]
    }
   ],
   "source": [
    "#輸入顧客購買金額，若金額在\n",
    "#100000元打8折. \n",
    "#50000打85折. \n",
    "#30000打9折. \n",
    "#10000打95折. \n",
    "\n",
    "#請輸入購買金額:130000\n",
    "#實付金額是: 104000.0 元\n",
    "\n",
    "import pyinputplus as pyip\n",
    "price = pyip.inputInt(\"請輸入購買金額:\",min=0)\n",
    "print(price)\n",
    "# 多項選擇\n",
    "if price>=1000000:\n",
    "    money=price*0.8\n",
    "    print(money)\n",
    "elif price>=50000:\n",
    "    money=price*0.85\n",
    "    print(money)\n",
    "elif price>=30000:\n",
    "    money=price*0.9\n",
    "    print(money)\n",
    "elif price>=10000:\n",
    "    money=price*0.95\n",
    "    print(money)\n",
    "else: \n",
    "    money=price\n",
    "    print(\"實付金額:\",money)\n",
    "    "
   ]
  },
  {
   "cell_type": "code",
   "execution_count": 36,
   "metadata": {},
   "outputs": [
    {
     "name": "stdout",
     "output_type": "stream",
     "text": [
      "請輸入購買金額:"
     ]
    },
    {
     "ename": "TypeError",
     "evalue": "'int' object is not callable",
     "output_type": "error",
     "traceback": [
      "\u001b[1;31m---------------------------------------------------------------------------\u001b[0m",
      "\u001b[1;31mTypeError\u001b[0m                                 Traceback (most recent call last)",
      "\u001b[1;32mc:\\github\\__11209python_school__\\lesson6_作業.ipynb 儲存格 4\u001b[0m line \u001b[0;36m1\n\u001b[0;32m     <a href='vscode-notebook-cell:/c%3A/github/__11209python_school__/lesson6_%E4%BD%9C%E6%A5%AD.ipynb#W4sZmlsZQ%3D%3D?line=9'>10</a>\u001b[0m \u001b[39mimport\u001b[39;00m \u001b[39mpyinputplus\u001b[39;00m \u001b[39mas\u001b[39;00m \u001b[39mpyip\u001b[39;00m\n\u001b[0;32m     <a href='vscode-notebook-cell:/c%3A/github/__11209python_school__/lesson6_%E4%BD%9C%E6%A5%AD.ipynb#W4sZmlsZQ%3D%3D?line=10'>11</a>\u001b[0m price \u001b[39m=\u001b[39m pyip\u001b[39m.\u001b[39minputInt(\u001b[39m\"\u001b[39m\u001b[39m請輸入購買金額:\u001b[39m\u001b[39m\"\u001b[39m,\u001b[39mmin\u001b[39m\u001b[39m=\u001b[39m\u001b[39m0\u001b[39m)\n\u001b[1;32m---> <a href='vscode-notebook-cell:/c%3A/github/__11209python_school__/lesson6_%E4%BD%9C%E6%A5%AD.ipynb#W4sZmlsZQ%3D%3D?line=11'>12</a>\u001b[0m \u001b[39mprint\u001b[39;49m(price)\n\u001b[0;32m     <a href='vscode-notebook-cell:/c%3A/github/__11209python_school__/lesson6_%E4%BD%9C%E6%A5%AD.ipynb#W4sZmlsZQ%3D%3D?line=12'>13</a>\u001b[0m coupon\u001b[39m=\u001b[39m\u001b[39m100\u001b[39m\u001b[39m*\u001b[39m(price\u001b[39m/\u001b[39m\u001b[39m/\u001b[39m\u001b[39m1000\u001b[39m)\n\u001b[0;32m     <a href='vscode-notebook-cell:/c%3A/github/__11209python_school__/lesson6_%E4%BD%9C%E6%A5%AD.ipynb#W4sZmlsZQ%3D%3D?line=13'>14</a>\u001b[0m price\u001b[39m-\u001b[39m\u001b[39m=\u001b[39mcoupon\n",
      "\u001b[1;31mTypeError\u001b[0m: 'int' object is not callable"
     ]
    }
   ],
   "source": [
    "#輸入顧客購買金額，若金額在\n",
    "#100000元打8折. \n",
    "#50000打85折. \n",
    "#30000打9折. \n",
    "#10000打95折. \n",
    "\n",
    "#請輸入購買金額:130000\n",
    "#實付金額是: 104000.0 元\n",
    "\n",
    "import pyinputplus as pyip\n",
    "price = pyip.inputInt(\"請輸入購買金額:\",min=0)\n",
    "print(price)\n",
    "coupon=100*(price//1000)\n",
    "price-=coupon\n",
    "# 多項選擇\n",
    "if price>=1000000:\n",
    "    money=price*0.8\n",
    "    print(\"實付金額:\",money)\n",
    "elif price>=50000:\n",
    "    money=price*0.85\n",
    "    print(\"實付金額:\",money)\n",
    "elif price>=30000:\n",
    "    money=price*0.9\n",
    "    print(\"實付金額:\",money)\n",
    "elif price>=10000:\n",
    "    money=price*0.95\n",
    "    print(\"實付金額:\",money)\n",
    "else: \n",
    "    money=price\n",
    "    print(\"實付金額:\",money)\n",
    "    \n",
    "\n",
    "\n",
    "print(\"coupon\",coupon)\n",
    "\n",
    "    "
   ]
  },
  {
   "cell_type": "code",
   "execution_count": 37,
   "metadata": {},
   "outputs": [
    {
     "name": "stdout",
     "output_type": "stream",
     "text": [
      "請輸入購買金額:"
     ]
    },
    {
     "ename": "TypeError",
     "evalue": "'int' object is not callable",
     "output_type": "error",
     "traceback": [
      "\u001b[1;31m---------------------------------------------------------------------------\u001b[0m",
      "\u001b[1;31mTypeError\u001b[0m                                 Traceback (most recent call last)",
      "\u001b[1;32mc:\\github\\__11209python_school__\\lesson6_作業.ipynb 儲存格 5\u001b[0m line \u001b[0;36m3\n\u001b[0;32m      <a href='vscode-notebook-cell:/c%3A/github/__11209python_school__/lesson6_%E4%BD%9C%E6%A5%AD.ipynb#W5sZmlsZQ%3D%3D?line=0'>1</a>\u001b[0m \u001b[39mimport\u001b[39;00m \u001b[39mpyinputplus\u001b[39;00m \u001b[39mas\u001b[39;00m \u001b[39mpyip\u001b[39;00m\n\u001b[0;32m      <a href='vscode-notebook-cell:/c%3A/github/__11209python_school__/lesson6_%E4%BD%9C%E6%A5%AD.ipynb#W5sZmlsZQ%3D%3D?line=1'>2</a>\u001b[0m price \u001b[39m=\u001b[39m pyip\u001b[39m.\u001b[39minputInt(\u001b[39m\"\u001b[39m\u001b[39m請輸入購買金額:\u001b[39m\u001b[39m\"\u001b[39m,\u001b[39mmin\u001b[39m\u001b[39m=\u001b[39m\u001b[39m0\u001b[39m)\n\u001b[1;32m----> <a href='vscode-notebook-cell:/c%3A/github/__11209python_school__/lesson6_%E4%BD%9C%E6%A5%AD.ipynb#W5sZmlsZQ%3D%3D?line=2'>3</a>\u001b[0m \u001b[39mprint\u001b[39;49m(price)\n",
      "\u001b[1;31mTypeError\u001b[0m: 'int' object is not callable"
     ]
    }
   ],
   "source": [
    "import pyinputplus as pyip\n",
    "price = pyip.inputInt(\"請輸入購買金額:\",min=0)\n",
    "print(price)"
   ]
  },
  {
   "cell_type": "code",
   "execution_count": 40,
   "metadata": {},
   "outputs": [
    {
     "name": "stdout",
     "output_type": "stream",
     "text": [
      "請輸入國文分數"
     ]
    },
    {
     "ename": "TypeError",
     "evalue": "'int' object is not callable",
     "output_type": "error",
     "traceback": [
      "\u001b[1;31m---------------------------------------------------------------------------\u001b[0m",
      "\u001b[1;31mTypeError\u001b[0m                                 Traceback (most recent call last)",
      "\u001b[1;32mc:\\github\\__11209python_school__\\lesson6_作業.ipynb 儲存格 6\u001b[0m line \u001b[0;36m2\n\u001b[0;32m      <a href='vscode-notebook-cell:/c%3A/github/__11209python_school__/lesson6_%E4%BD%9C%E6%A5%AD.ipynb#W6sZmlsZQ%3D%3D?line=0'>1</a>\u001b[0m chinese \u001b[39m=\u001b[39m pyip\u001b[39m.\u001b[39minputInt(\u001b[39m\"\u001b[39m\u001b[39m請輸入國文分數\u001b[39m\u001b[39m\"\u001b[39m)\n\u001b[1;32m----> <a href='vscode-notebook-cell:/c%3A/github/__11209python_school__/lesson6_%E4%BD%9C%E6%A5%AD.ipynb#W6sZmlsZQ%3D%3D?line=1'>2</a>\u001b[0m \u001b[39mprint\u001b[39;49m(chinese)\n\u001b[0;32m      <a href='vscode-notebook-cell:/c%3A/github/__11209python_school__/lesson6_%E4%BD%9C%E6%A5%AD.ipynb#W6sZmlsZQ%3D%3D?line=2'>3</a>\u001b[0m math\u001b[39m=\u001b[39m pyip\u001b[39m.\u001b[39minputInt(\u001b[39m\"\u001b[39m\u001b[39m請輸入數學分數\u001b[39m\u001b[39m\"\u001b[39m)\n\u001b[0;32m      <a href='vscode-notebook-cell:/c%3A/github/__11209python_school__/lesson6_%E4%BD%9C%E6%A5%AD.ipynb#W6sZmlsZQ%3D%3D?line=3'>4</a>\u001b[0m \u001b[39mprint\u001b[39m(math)\n",
      "\u001b[1;31mTypeError\u001b[0m: 'int' object is not callable"
     ]
    }
   ],
   "source": [
    "chinese = pyip.inputInt(\"請輸入國文分數\")\n",
    "print(chinese)\n",
    "math= pyip.inputInt(\"請輸入數學分數\")\n",
    "print(math)\n",
    "\n",
    "if chinese == 100 and math == 100:\n",
    "    bonus = 1000\n",
    "elif chinese== 100 or math == 100:\n",
    "    bonus = 500\n",
    "else:\n",
    "    bonus = 0\n",
    "    \n",
    "print(f\"獎金:{bonus}\")\n",
    "\n"
   ]
  }
 ],
 "metadata": {
  "kernelspec": {
   "display_name": ".venv",
   "language": "python",
   "name": "python3"
  },
  "language_info": {
   "codemirror_mode": {
    "name": "ipython",
    "version": 3
   },
   "file_extension": ".py",
   "mimetype": "text/x-python",
   "name": "python",
   "nbconvert_exporter": "python",
   "pygments_lexer": "ipython3",
   "version": "3.10.8"
  },
  "orig_nbformat": 4
 },
 "nbformat": 4,
 "nbformat_minor": 2
}
