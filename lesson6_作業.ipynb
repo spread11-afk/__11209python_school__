{
 "cells": [
  {
   "cell_type": "code",
   "execution_count": 2,
   "metadata": {},
   "outputs": [
    {
     "ename": "ModuleNotFoundError",
     "evalue": "No module named 'pyinputplus'",
     "output_type": "error",
     "traceback": [
      "\u001b[1;31m---------------------------------------------------------------------------\u001b[0m",
      "\u001b[1;31mModuleNotFoundError\u001b[0m                       Traceback (most recent call last)",
      "\u001b[1;32mc:\\github\\__11209python_school__\\lesson6_作業.ipynb 儲存格 1\u001b[0m line \u001b[0;36m7\n\u001b[0;32m      <a href='vscode-notebook-cell:/c%3A/github/__11209python_school__/lesson6_%E4%BD%9C%E6%A5%AD.ipynb#W0sZmlsZQ%3D%3D?line=0'>1</a>\u001b[0m \u001b[39m# 作業\u001b[39;00m\n\u001b[0;32m      <a href='vscode-notebook-cell:/c%3A/github/__11209python_school__/lesson6_%E4%BD%9C%E6%A5%AD.ipynb#W0sZmlsZQ%3D%3D?line=1'>2</a>\u001b[0m \u001b[39m# 90(含)~100分為「優」\u001b[39;00m\n\u001b[0;32m      <a href='vscode-notebook-cell:/c%3A/github/__11209python_school__/lesson6_%E4%BD%9C%E6%A5%AD.ipynb#W0sZmlsZQ%3D%3D?line=2'>3</a>\u001b[0m \u001b[39m# 80(含)~89分為「甲」\u001b[39;00m\n\u001b[0;32m      <a href='vscode-notebook-cell:/c%3A/github/__11209python_school__/lesson6_%E4%BD%9C%E6%A5%AD.ipynb#W0sZmlsZQ%3D%3D?line=3'>4</a>\u001b[0m \u001b[39m# 70(含)~79分為「乙」\u001b[39;00m\n\u001b[0;32m      <a href='vscode-notebook-cell:/c%3A/github/__11209python_school__/lesson6_%E4%BD%9C%E6%A5%AD.ipynb#W0sZmlsZQ%3D%3D?line=4'>5</a>\u001b[0m \u001b[39m# 60(含)~69分為「丙」\u001b[39;00m\n\u001b[0;32m      <a href='vscode-notebook-cell:/c%3A/github/__11209python_school__/lesson6_%E4%BD%9C%E6%A5%AD.ipynb#W0sZmlsZQ%3D%3D?line=5'>6</a>\u001b[0m \u001b[39m# 0(含)~59分為「丁」\u001b[39;00m\n\u001b[1;32m----> <a href='vscode-notebook-cell:/c%3A/github/__11209python_school__/lesson6_%E4%BD%9C%E6%A5%AD.ipynb#W0sZmlsZQ%3D%3D?line=6'>7</a>\u001b[0m \u001b[39mimport\u001b[39;00m \u001b[39mpyinputplus\u001b[39;00m \u001b[39mas\u001b[39;00m \u001b[39mpyip\u001b[39;00m\n\u001b[0;32m      <a href='vscode-notebook-cell:/c%3A/github/__11209python_school__/lesson6_%E4%BD%9C%E6%A5%AD.ipynb#W0sZmlsZQ%3D%3D?line=7'>8</a>\u001b[0m score \u001b[39m=\u001b[39m pyip\u001b[39m.\u001b[39minputInt(\u001b[39m\"\u001b[39m\u001b[39m請輸入學生分數:\u001b[39m\u001b[39m\"\u001b[39m,\u001b[39mmin\u001b[39m\u001b[39m=\u001b[39m\u001b[39m0\u001b[39m,\u001b[39mmax\u001b[39m\u001b[39m=\u001b[39m\u001b[39m100\u001b[39m)\n\u001b[0;32m      <a href='vscode-notebook-cell:/c%3A/github/__11209python_school__/lesson6_%E4%BD%9C%E6%A5%AD.ipynb#W0sZmlsZQ%3D%3D?line=8'>9</a>\u001b[0m \u001b[39mprint\u001b[39m(score)\n",
      "\u001b[1;31mModuleNotFoundError\u001b[0m: No module named 'pyinputplus'"
     ]
    }
   ],
   "source": [
    "\n",
    "# 作業\n",
    "# 90(含)~100分為「優」\n",
    "# 80(含)~89分為「甲」\n",
    "# 70(含)~79分為「乙」\n",
    "# 60(含)~69分為「丙」\n",
    "# 0(含)~59分為「丁」\n",
    "import pyinputplus as pyip\n",
    "score = pyip.inputInt(\"請輸入學生分數:\",min=0,max=100)\n",
    "print(score)\n",
    "if score>=90:\n",
    "    print('優')\n",
    "else:\n",
    "    if score>=80:\n",
    "        print('甲')\n",
    "    else:\n",
    "        if score>=70:\n",
    "            print('乙')\n",
    "        else:\n",
    "            if score>=60:\n",
    "                print('丙')\n",
    "            else:\n",
    "                if score<59:\n",
    "                    print('丁')\n",
    "\n",
    "\n"
   ]
  }
 ],
 "metadata": {
  "kernelspec": {
   "display_name": ".venv",
   "language": "python",
   "name": "python3"
  },
  "language_info": {
   "codemirror_mode": {
    "name": "ipython",
    "version": 3
   },
   "file_extension": ".py",
   "mimetype": "text/x-python",
   "name": "python",
   "nbconvert_exporter": "python",
   "pygments_lexer": "ipython3",
   "version": "3.10.8"
  },
  "orig_nbformat": 4
 },
 "nbformat": 4,
 "nbformat_minor": 2
}
