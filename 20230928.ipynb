{
 "cells": [
  {
   "cell_type": "code",
   "execution_count": 14,
   "metadata": {},
   "outputs": [
    {
     "name": "stdout",
     "output_type": "stream",
     "text": [
      "華仔\n",
      "得分=0分\n",
      "發哥\n",
      "得分=4分\n",
      "遊戲结束\n"
     ]
    }
   ],
   "source": [
    "import random\n",
    "\n",
    "class Player:\n",
    "     def __init__(self, name):\n",
    "          self.name = name\n",
    "\n",
    "     \n",
    "     def __play(self) -> str:\n",
    "          dice = []\n",
    "          count = 0\n",
    "          while True:\n",
    "               count += 1\n",
    "               i=int(random.randint(1,6))\n",
    "               dice.append(i)\n",
    "               if count !=4:\n",
    "                    continue\n",
    "               else:\n",
    "                    break\n",
    "          if   len(set(dice)) == 1 :\n",
    "               print('豹子')\n",
    "               score=sum(dice)\n",
    "          elif len(set(dice)) == 4 :\n",
    "               score = 0\n",
    "          elif dice.count(dice[0]) == 3 or dice.count(dice[1]) == 3 :\n",
    "               score = 0\n",
    "          elif len(set(dice)) == 2 :\n",
    "               score = dice[2] * 2\n",
    "          elif dice[0] == dice[1] :\n",
    "               score = dice[2] + dice[3]\n",
    "          elif dice[1] == dice[2] :\n",
    "               score = dice[0] + dice[3]\n",
    "          elif dice[2] == dice[3] :\n",
    "               score = dice[0] + dice[1]     \n",
    "          \n",
    "          return score\n",
    "     \n",
    "     @property\n",
    "     def sibara(self) -> str:\n",
    "          return self.__play()\n",
    "\n",
    "     def __repr__(self) -> str:\n",
    "          descript = \"\"\n",
    "          descript += f\"{self.name}\\n\"\n",
    "          descript += f\"得分={self.sibara}分\"\n",
    "          return descript\n",
    "\n",
    "def main():\n",
    "     p1 = Player(\"華仔\")\n",
    "     p2 = Player(\"發哥\")\n",
    "\n",
    "\n",
    "     print(p1)\n",
    "     print(p2)\n",
    "     print(\"遊戲结束\")\n",
    "\n",
    "if __name__ == \"__main__\":\n",
    "     main()\n",
    "\n"
   ]
  }
 ],
 "metadata": {
  "kernelspec": {
   "display_name": ".venv",
   "language": "python",
   "name": "python3"
  },
  "language_info": {
   "codemirror_mode": {
    "name": "ipython",
    "version": 3
   },
   "file_extension": ".py",
   "mimetype": "text/x-python",
   "name": "python",
   "nbconvert_exporter": "python",
   "pygments_lexer": "ipython3",
   "version": "3.10.8"
  },
  "orig_nbformat": 4
 },
 "nbformat": 4,
 "nbformat_minor": 2
}
