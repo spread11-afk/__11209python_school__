{
 "cells": [
  {
   "cell_type": "code",
   "execution_count": 17,
   "metadata": {},
   "outputs": [
    {
     "name": "stdout",
     "output_type": "stream",
     "text": [
      "華仔\n",
      "得分=骰子1:5:骰子2 4:骰子3 4:骰子4 6 11分\n"
     ]
    },
    {
     "ename": "UnboundLocalError",
     "evalue": "local variable 'score' referenced before assignment",
     "output_type": "error",
     "traceback": [
      "\u001b[1;31m---------------------------------------------------------------------------\u001b[0m",
      "\u001b[1;31mUnboundLocalError\u001b[0m                         Traceback (most recent call last)",
      "\u001b[1;32mc:\\github\\__11209python_school__\\20230928.ipynb 儲存格 1\u001b[0m line \u001b[0;36m5\n\u001b[0;32m     <a href='vscode-notebook-cell:/c%3A/github/__11209python_school__/20230928.ipynb#W0sZmlsZQ%3D%3D?line=52'>53</a>\u001b[0m      \u001b[39mprint\u001b[39m(\u001b[39m\"\u001b[39m\u001b[39m遊戲结束\u001b[39m\u001b[39m\"\u001b[39m)\n\u001b[0;32m     <a href='vscode-notebook-cell:/c%3A/github/__11209python_school__/20230928.ipynb#W0sZmlsZQ%3D%3D?line=54'>55</a>\u001b[0m \u001b[39mif\u001b[39;00m \u001b[39m__name__\u001b[39m \u001b[39m==\u001b[39m \u001b[39m\"\u001b[39m\u001b[39m__main__\u001b[39m\u001b[39m\"\u001b[39m:\n\u001b[1;32m---> <a href='vscode-notebook-cell:/c%3A/github/__11209python_school__/20230928.ipynb#W0sZmlsZQ%3D%3D?line=55'>56</a>\u001b[0m      main()\n",
      "\u001b[1;32mc:\\github\\__11209python_school__\\20230928.ipynb 儲存格 1\u001b[0m line \u001b[0;36m5\n\u001b[0;32m     <a href='vscode-notebook-cell:/c%3A/github/__11209python_school__/20230928.ipynb#W0sZmlsZQ%3D%3D?line=47'>48</a>\u001b[0m p2 \u001b[39m=\u001b[39m Player(\u001b[39m\"\u001b[39m\u001b[39m發哥\u001b[39m\u001b[39m\"\u001b[39m)\n\u001b[0;32m     <a href='vscode-notebook-cell:/c%3A/github/__11209python_school__/20230928.ipynb#W0sZmlsZQ%3D%3D?line=50'>51</a>\u001b[0m \u001b[39mprint\u001b[39m(p1)\n\u001b[1;32m---> <a href='vscode-notebook-cell:/c%3A/github/__11209python_school__/20230928.ipynb#W0sZmlsZQ%3D%3D?line=51'>52</a>\u001b[0m \u001b[39mprint\u001b[39;49m(p2)\n\u001b[0;32m     <a href='vscode-notebook-cell:/c%3A/github/__11209python_school__/20230928.ipynb#W0sZmlsZQ%3D%3D?line=52'>53</a>\u001b[0m \u001b[39mprint\u001b[39m(\u001b[39m\"\u001b[39m\u001b[39m遊戲结束\u001b[39m\u001b[39m\"\u001b[39m)\n",
      "\u001b[1;32mc:\\github\\__11209python_school__\\20230928.ipynb 儲存格 1\u001b[0m line \u001b[0;36m4\n\u001b[0;32m     <a href='vscode-notebook-cell:/c%3A/github/__11209python_school__/20230928.ipynb#W0sZmlsZQ%3D%3D?line=40'>41</a>\u001b[0m descript \u001b[39m=\u001b[39m \u001b[39m\"\u001b[39m\u001b[39m\"\u001b[39m\n\u001b[0;32m     <a href='vscode-notebook-cell:/c%3A/github/__11209python_school__/20230928.ipynb#W0sZmlsZQ%3D%3D?line=41'>42</a>\u001b[0m descript \u001b[39m+\u001b[39m\u001b[39m=\u001b[39m \u001b[39mf\u001b[39m\u001b[39m\"\u001b[39m\u001b[39m{\u001b[39;00m\u001b[39mself\u001b[39m\u001b[39m.\u001b[39mname\u001b[39m}\u001b[39;00m\u001b[39m\\n\u001b[39;00m\u001b[39m\"\u001b[39m\n\u001b[1;32m---> <a href='vscode-notebook-cell:/c%3A/github/__11209python_school__/20230928.ipynb#W0sZmlsZQ%3D%3D?line=42'>43</a>\u001b[0m descript \u001b[39m+\u001b[39m\u001b[39m=\u001b[39m \u001b[39mf\u001b[39m\u001b[39m\"\u001b[39m\u001b[39m得分=\u001b[39m\u001b[39m{\u001b[39;00m\u001b[39mself\u001b[39;49m\u001b[39m.\u001b[39;49msibara\u001b[39m}\u001b[39;00m\u001b[39m分\u001b[39m\u001b[39m\"\u001b[39m\n\u001b[0;32m     <a href='vscode-notebook-cell:/c%3A/github/__11209python_school__/20230928.ipynb#W0sZmlsZQ%3D%3D?line=43'>44</a>\u001b[0m \u001b[39mreturn\u001b[39;00m descript\n",
      "\u001b[1;32mc:\\github\\__11209python_school__\\20230928.ipynb 儲存格 1\u001b[0m line \u001b[0;36m3\n\u001b[0;32m     <a href='vscode-notebook-cell:/c%3A/github/__11209python_school__/20230928.ipynb#W0sZmlsZQ%3D%3D?line=35'>36</a>\u001b[0m \u001b[39m@property\u001b[39m\n\u001b[0;32m     <a href='vscode-notebook-cell:/c%3A/github/__11209python_school__/20230928.ipynb#W0sZmlsZQ%3D%3D?line=36'>37</a>\u001b[0m \u001b[39mdef\u001b[39;00m \u001b[39msibara\u001b[39m(\u001b[39mself\u001b[39m) \u001b[39m-\u001b[39m\u001b[39m>\u001b[39m \u001b[39mstr\u001b[39m:\n\u001b[1;32m---> <a href='vscode-notebook-cell:/c%3A/github/__11209python_school__/20230928.ipynb#W0sZmlsZQ%3D%3D?line=37'>38</a>\u001b[0m      \u001b[39mreturn\u001b[39;00m \u001b[39mself\u001b[39;49m\u001b[39m.\u001b[39;49m__play()\n",
      "\u001b[1;32mc:\\github\\__11209python_school__\\20230928.ipynb 儲存格 1\u001b[0m line \u001b[0;36m3\n\u001b[0;32m     <a href='vscode-notebook-cell:/c%3A/github/__11209python_school__/20230928.ipynb#W0sZmlsZQ%3D%3D?line=30'>31</a>\u001b[0m \u001b[39melif\u001b[39;00m dice[\u001b[39m2\u001b[39m] \u001b[39m==\u001b[39m dice[\u001b[39m3\u001b[39m] :\n\u001b[0;32m     <a href='vscode-notebook-cell:/c%3A/github/__11209python_school__/20230928.ipynb#W0sZmlsZQ%3D%3D?line=31'>32</a>\u001b[0m      score \u001b[39m=\u001b[39m dice[\u001b[39m0\u001b[39m] \u001b[39m+\u001b[39m dice[\u001b[39m1\u001b[39m]     \n\u001b[1;32m---> <a href='vscode-notebook-cell:/c%3A/github/__11209python_school__/20230928.ipynb#W0sZmlsZQ%3D%3D?line=33'>34</a>\u001b[0m \u001b[39mreturn\u001b[39;00m \u001b[39mf\u001b[39m\u001b[39m'\u001b[39m\u001b[39m骰子1:\u001b[39m\u001b[39m{\u001b[39;00mdice[\u001b[39m0\u001b[39m]\u001b[39m}\u001b[39;00m\u001b[39m:骰子2 \u001b[39m\u001b[39m{\u001b[39;00mdice[\u001b[39m1\u001b[39m]\u001b[39m}\u001b[39;00m\u001b[39m:骰子3 \u001b[39m\u001b[39m{\u001b[39;00mdice[\u001b[39m2\u001b[39m]\u001b[39m}\u001b[39;00m\u001b[39m:骰子4 \u001b[39m\u001b[39m{\u001b[39;00mdice[\u001b[39m3\u001b[39m]\u001b[39m}\u001b[39;00m\u001b[39m \u001b[39m\u001b[39m{\u001b[39;00mscore\u001b[39m}\u001b[39;00m\u001b[39m'\u001b[39m\n",
      "\u001b[1;31mUnboundLocalError\u001b[0m: local variable 'score' referenced before assignment"
     ]
    }
   ],
   "source": [
    "import random\n",
    "\n",
    "class Player:\n",
    "     def __init__(self, name:str):\n",
    "          self.name = name\n",
    "\n",
    "     \n",
    "     def __play(self) -> str:\n",
    "          dice = []\n",
    "          count = 0\n",
    "          while True:\n",
    "               count += 1\n",
    "               i=random.randint(1,6)\n",
    "               dice.append(i)\n",
    "               if count !=4:\n",
    "                    continue\n",
    "               else:\n",
    "                    break\n",
    "          if   len(set(dice)) == 1 :\n",
    "               score=sum(dice)\n",
    "          elif len(set(dice)) == 4 :\n",
    "               score = 0\n",
    "          elif dice.count(dice[0]) == 3 or dice.count(dice[1]) == 3 :\n",
    "               score = 0\n",
    "          elif len(set(dice)) == 2 :\n",
    "               score = dice[2] * 2\n",
    "          elif dice[0] == dice[1] :\n",
    "               score = dice[2] + dice[3]\n",
    "          elif dice[1] == dice[2] :\n",
    "               score = dice[0] + dice[3]\n",
    "          elif dice[2] == dice[3] :\n",
    "               score = dice[0] + dice[1]     \n",
    "          \n",
    "          return f'骰子1:{dice[0]}:骰子2 {dice[1]}:骰子3 {dice[2]}:骰子4 {dice[3]} {score}'\n",
    "     \n",
    "     @property\n",
    "     def sibara(self) -> str:\n",
    "          return self.__play()\n",
    "\n",
    "     def __repr__(self) -> str:\n",
    "          descript = \"\"\n",
    "          descript += f\"{self.name}\\n\"\n",
    "          descript += f\"得分={self.sibara}分\"\n",
    "          return descript\n",
    "\n",
    "def main():\n",
    "     p1 = Player(\"華仔\")\n",
    "     p2 = Player(\"發哥\")\n",
    "\n",
    "\n",
    "     print(p1)\n",
    "     print(p2)\n",
    "     print(\"遊戲结束\")\n",
    "\n",
    "if __name__ == \"__main__\":\n",
    "     main()\n",
    "\n"
   ]
  }
 ],
 "metadata": {
  "kernelspec": {
   "display_name": ".venv",
   "language": "python",
   "name": "python3"
  },
  "language_info": {
   "codemirror_mode": {
    "name": "ipython",
    "version": 3
   },
   "file_extension": ".py",
   "mimetype": "text/x-python",
   "name": "python",
   "nbconvert_exporter": "python",
   "pygments_lexer": "ipython3",
   "version": "3.10.8"
  },
  "orig_nbformat": 4
 },
 "nbformat": 4,
 "nbformat_minor": 2
}
