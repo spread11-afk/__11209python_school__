{
 "cells": [
  {
   "cell_type": "code",
   "execution_count": 8,
   "metadata": {},
   "outputs": [
    {
     "name": "stdout",
     "output_type": "stream",
     "text": [
      "姓名:徐國堂\n",
      "age:25\n",
      "體重:77\n",
      "身高:180\n"
     ]
    }
   ],
   "source": [
    "class person():\n",
    "    def __init__(self,name,age=18,weight=70,height=170) -> None:\n",
    "        self.name = name\n",
    "        self.age = age\n",
    "        self.weight = weight\n",
    "        self.height = height\n",
    "    def description(self):\n",
    "        print(f\"姓名:{self.name}\")\n",
    "        print(f\"age:{self.age}\")\n",
    "        print(f\"體重:{self.weight}\")\n",
    "        print(f\"身高:{self.height}\")\n",
    "\n",
    "p1 = person(name=\"徐國堂\",age=25,weight=77,height=180)\n",
    "p1.description()"
   ]
  },
  {
   "cell_type": "code",
   "execution_count": 15,
   "metadata": {},
   "outputs": [
    {
     "name": "stdout",
     "output_type": "stream",
     "text": [
      "姓名:徐國堂\n",
      "age:28\n",
      "體重:70\n",
      "身高:170\n",
      "id:12345\n"
     ]
    }
   ],
   "source": [
    "class Student(person):\n",
    "    def __init__(self, name,id,**kwargs) -> None:   \n",
    "        super().__init__(name,**kwargs)\n",
    "        self.id = id\n",
    "    def description(self):\n",
    "        super().description()\n",
    "        print(f'id:{stu1.id}')\n",
    "\n",
    "stu1 = Student(name=\"徐國堂\",id=\"12345\",age=28)  \n",
    "stu1.description()   "
   ]
  }
 ],
 "metadata": {
  "kernelspec": {
   "display_name": ".venv",
   "language": "python",
   "name": "python3"
  },
  "language_info": {
   "codemirror_mode": {
    "name": "ipython",
    "version": 3
   },
   "file_extension": ".py",
   "mimetype": "text/x-python",
   "name": "python",
   "nbconvert_exporter": "python",
   "pygments_lexer": "ipython3",
   "version": "3.10.8"
  }
 },
 "nbformat": 4,
 "nbformat_minor": 2
}
