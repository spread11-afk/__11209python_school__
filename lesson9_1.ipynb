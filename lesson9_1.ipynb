{
 "cells": [
  {
   "cell_type": "code",
   "execution_count": 3,
   "metadata": {},
   "outputs": [
    {
     "name": "stdout",
     "output_type": "stream",
     "text": [
      "請輸入第1月存款684\n",
      "目前距離目標還差:39116\n",
      "===========\n",
      "請輸入第2月存款4654\n",
      "目前距離目標還差:34462\n",
      "===========\n",
      "請輸入第3月存款6565\n",
      "目前距離目標還差:27897\n",
      "===========\n",
      "請輸入第4月存款5564\n",
      "目前距離目標還差:22333\n",
      "===========\n",
      "請輸入第5月存款5647\n",
      "目前距離目標還差:16686\n",
      "===========\n",
      "請輸入第6月存款568\n",
      "目前距離目標還差:16118\n",
      "===========\n",
      "請輸入第7月存款561\n",
      "目前距離目標還差:15557\n",
      "===========\n",
      "請輸入第8月存款327\n",
      "目前距離目標還差:15230\n",
      "===========\n",
      "請輸入第9月存款4989\n",
      "目前距離目標還差:10241\n",
      "===========\n",
      "請輸入第10月存款13235\n",
      "===========\n",
      "恭喜!總共花費10月總存款:42794\n"
     ]
    }
   ],
   "source": [
    "import pyinputplus as pyip\n",
    "\n",
    "month = 0\n",
    "deposit = 0\n",
    "while(deposit<39800):\n",
    "    month +=1\n",
    "    input_value = pyip.inputInt(f\"請輸入第{month}月存款\")\n",
    "    print(input_value)\n",
    "    deposit += input_value\n",
    "    if deposit < 39800:\n",
    "      print(f\"目前距離目標還差:{39800-deposit}\")\n",
    "    print(\"===========\")\n",
    "\n",
    "print(f\"恭喜!總共花費{month}月總存款:{deposit}\")\n"
   ]
  },
  {
   "cell_type": "code",
   "execution_count": 4,
   "metadata": {},
   "outputs": [
    {
     "name": "stdout",
     "output_type": "stream",
     "text": [
      "a\n",
      "w\n",
      "\n",
      "zc\n",
      "vf\n",
      "hn\n",
      "mryhd\n",
      "gea\n",
      "qdsvgf\n"
     ]
    }
   ],
   "source": [
    "while(True):\n",
    "    stuff = input(\"請輸入小寫英文字:\")\n",
    "    if stuff == 'q':\n",
    "        break\n",
    "    print(stuff)"
   ]
  },
  {
   "cell_type": "code",
   "execution_count": 6,
   "metadata": {},
   "outputs": [
    {
     "name": "stdout",
     "output_type": "stream",
     "text": [
      "3的平方是9\n",
      "5的平方是25\n",
      "7的平方是49\n",
      "9的平方是81\n",
      "不做動作，請重新輸入\n",
      "不做動作，請重新輸入\n",
      "不做動作，請重新輸入\n",
      "不做動作，請重新輸入\n",
      "不做動作，請重新輸入\n",
      "647的平方是418609\n",
      "不做動作，請重新輸入\n",
      "5的平方是25\n"
     ]
    }
   ],
   "source": [
    "while(True):\n",
    "    keyin = input(f\"請輸入整數,輸入[q]小寫英文字:\")\n",
    "    if keyin == 'q':\n",
    "        break\n",
    "    try:\n",
    "        value = int(keyin)\n",
    "    except:\n",
    "        print(\"豬頭\")\n",
    "        continue\n",
    "    else:\n",
    "        if value % 2 == 0:\n",
    "            print(\"不做動作，請重新輸入\")\n",
    "            continue#以下皆不執行，從頭開始\n",
    "        else:\n",
    "            print(f\"{value}的平方是{value ** 2}\")\n"
   ]
  },
  {
   "cell_type": "code",
   "execution_count": 16,
   "metadata": {},
   "outputs": [
    {
     "name": "stdout",
     "output_type": "stream",
     "text": [
      "12\n"
     ]
    }
   ],
   "source": [
    "while True:\n",
    "    try:\n",
    "        keyin = int(input(\"請輸入數字\"))\n",
    "        value = int(keyin)\n",
    "    except:\n",
    "        print(f\"格式錯誤,請重新輸入\")\n",
    "        continue\n",
    "    else:\n",
    "        if value<=20 and value>=10:\n",
    "            break\n",
    "        else:\n",
    "            print(\"數值必須在10~20之間\")\n",
    "            continue\n",
    "print(value)\n",
    "\n"
   ]
  },
  {
   "cell_type": "code",
   "execution_count": 21,
   "metadata": {},
   "outputs": [
    {
     "name": "stdout",
     "output_type": "stream",
     "text": [
      "12\n"
     ]
    }
   ],
   "source": [
    "def input_int(prompt:str,max:int| None = None,min:int | None = None)->int:\n",
    "    while True:\n",
    "        try:\n",
    "            keyin = int(input(prompt))\n",
    "            value = int(keyin)\n",
    "        except:\n",
    "            print(f\"格式錯誤,請重新輸入\")\n",
    "            continue\n",
    "        else:\n",
    "            if max is not None and min is not None:\n",
    "                if value<=max and value>=min:\n",
    "                    return value\n",
    "                else:\n",
    "                    print(f\"數值必須在{min}~{max}之間\")\n",
    "                    continue\n",
    "            else:\n",
    "                return value    \n",
    "print(value)\n",
    "\n"
   ]
  },
  {
   "cell_type": "code",
   "execution_count": 23,
   "metadata": {},
   "outputs": [
    {
     "name": "stdout",
     "output_type": "stream",
     "text": [
      "格式錯誤,請重新輸入\n",
      "格式錯誤,請重新輸入\n",
      "格式錯誤,請重新輸入\n",
      "格式錯誤,請重新輸入\n",
      "數值必須在10~30之間\n",
      "29\n"
     ]
    }
   ],
   "source": [
    "value=input_int(prompt=\"請輸入整數:\",max=30,min=10)\n",
    "print(value)"
   ]
  }
 ],
 "metadata": {
  "kernelspec": {
   "display_name": ".venv",
   "language": "python",
   "name": "python3"
  },
  "language_info": {
   "codemirror_mode": {
    "name": "ipython",
    "version": 3
   },
   "file_extension": ".py",
   "mimetype": "text/x-python",
   "name": "python",
   "nbconvert_exporter": "python",
   "pygments_lexer": "ipython3",
   "version": "3.10.8"
  },
  "orig_nbformat": 4
 },
 "nbformat": 4,
 "nbformat_minor": 2
}
