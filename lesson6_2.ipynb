{
 "cells": [
  {
   "cell_type": "code",
   "execution_count": 6,
   "metadata": {},
   "outputs": [],
   "source": [
    "import pyinputplus as pyip"
   ]
  },
  {
   "cell_type": "code",
   "execution_count": 10,
   "metadata": {},
   "outputs": [
    {
     "name": "stdout",
     "output_type": "stream",
     "text": [
      "Help on function inputStr in module pyinputplus:\n",
      "\n",
      "inputStr(prompt='', default=None, blank=False, timeout=None, limit=None, strip=None, allowRegexes=None, blockRegexes=None, applyFunc=None, postValidateApplyFunc=None)\n",
      "    Prompts the user to enter any string input. This is similar to Python's ``input()``\n",
      "    and ``raw_input()`` functions, but with PyInputPlus's additional features\n",
      "    such as timeouts, retry limits, stripping, allowlist/blocklist, etc.\n",
      "    \n",
      "    Validation can be performed by the validationFunc argument, which raises\n",
      "    an exception if the input is invalid. The exception message is used to\n",
      "    tell the user why the input is invalid.\n",
      "    \n",
      "    Run ``help(pyinputplus.parameters)`` for an explanation of the common parameters.\n",
      "    \n",
      "    >>> result = inputStr('Enter name> ')\n",
      "    Enter name> Al\n",
      "    >>> result\n",
      "    'Al'\n",
      "\n"
     ]
    }
   ],
   "source": [
    "help(pyip.inputStr)"
   ]
  },
  {
   "cell_type": "code",
   "execution_count": 5,
   "metadata": {},
   "outputs": [
    {
     "name": "stdout",
     "output_type": "stream",
     "text": [
      "請輸入你的姓名:"
     ]
    },
    {
     "data": {
      "text/plain": [
       "'123'"
      ]
     },
     "execution_count": 5,
     "metadata": {},
     "output_type": "execute_result"
    }
   ],
   "source": [
    "pyip.inputStr(prompt='請輸入你的姓名:')"
   ]
  },
  {
   "cell_type": "code",
   "execution_count": 9,
   "metadata": {},
   "outputs": [
    {
     "name": "stdout",
     "output_type": "stream",
     "text": [
      "請輸入一組數字:'123a' is not a number.\n",
      "請輸入一組數字:'hhh' is not a number.\n",
      "請輸入一組數字:"
     ]
    },
    {
     "data": {
      "text/plain": [
       "12"
      ]
     },
     "execution_count": 9,
     "metadata": {},
     "output_type": "execute_result"
    }
   ],
   "source": [
    "pyip.inputNum(prompt='請輸入一組數字:')"
   ]
  },
  {
   "cell_type": "code",
   "execution_count": 13,
   "metadata": {},
   "outputs": [
    {
     "name": "stdout",
     "output_type": "stream",
     "text": [
      "請輸入學生成績:Number must be at maximum 300.\n",
      "請輸入學生成績:學生總分是:0\n"
     ]
    }
   ],
   "source": [
    "#學生總分為300\n",
    "#有些學生可以加分5%\n",
    "#如果加分超過300，就以300分為準\n",
    "#raise ValueError 升起錯誤\n",
    "\n",
    "\n",
    "import pyinputplus as pyip\n",
    "scores = pyip.inputInt(prompt=\"請輸入學生成績:\",min=0,max=300)\n",
    "\n",
    "is_add = input(\"請輸入是否符合資格?(y,n)\")\n",
    "if is_add==\"y\":\n",
    "    scores*=1.05\n",
    "    if scores>300:\n",
    "        scores=300\n",
    "print(f\"學生總分是:{scores}\")\n",
    "\n",
    "\n"
   ]
  },
  {
   "cell_type": "code",
   "execution_count": 19,
   "metadata": {},
   "outputs": [
    {
     "name": "stdout",
     "output_type": "stream",
     "text": [
      "請輸入x:-4\n",
      "請輸入y:5\n",
      "虛數\n"
     ]
    }
   ],
   "source": [
    "# 如果x不是負數，則傳回值為 x ** (1 / y)。\n",
    "# 如果x是負數而且為偶數，則傳回值為\"虛數\"。\n",
    "# 如果x是負數而且為奇數，則傳回值為 -(-x) ** (1 / y)\n",
    "\n",
    "import pyinputplus as pyip\n",
    "x = pyip.inputInt(\"請輸入x:\")\n",
    "print(x)\n",
    "y = pyip.inputInt(\"請輸入y:\")\n",
    "print(y)\n",
    "\n",
    "if x >=0:\n",
    "    root = x ** (1/y)\n",
    "else:\n",
    "    if x % 2 == 0:\n",
    "       root = \"虛數\"\n",
    "    else:\n",
    "        root = -(-x) ** (1/y)\n",
    "\n",
    "print(root)"
   ]
  },
  {
   "cell_type": "code",
   "execution_count": 32,
   "metadata": {},
   "outputs": [
    {
     "name": "stdout",
     "output_type": "stream",
     "text": [
      "請輸入學生分數:丙\n"
     ]
    }
   ],
   "source": [
    "\n",
    "# 作業\n",
    "# 90(含)~100分為「優」\n",
    "# 80(含)~89分為「甲」\n",
    "# 70(含)~79分為「乙」\n",
    "# 60(含)~69分為「丙」\n",
    "# 0(含)~59分為「丁」\n",
    "import pyinputplus as pyip\n",
    "score = pyip.inputInt(\"請輸入學生分數:\",min=0,max=100)\n",
    "if score>=90:\n",
    "    print('優')\n",
    "else:\n",
    "    if score>=80:\n",
    "        print('甲')\n",
    "    else:\n",
    "        if score>=70:\n",
    "            print('乙')\n",
    "        else:\n",
    "            if score>=60:\n",
    "                print('丙')\n",
    "            else:\n",
    "                if score<59:\n",
    "                    print('丁')\n",
    "\n",
    "\n"
   ]
  }
 ],
 "metadata": {
  "kernelspec": {
   "display_name": ".venv",
   "language": "python",
   "name": "python3"
  },
  "language_info": {
   "codemirror_mode": {
    "name": "ipython",
    "version": 3
   },
   "file_extension": ".py",
   "mimetype": "text/x-python",
   "name": "python",
   "nbconvert_exporter": "python",
   "pygments_lexer": "ipython3",
   "version": "3.10.8"
  },
  "orig_nbformat": 4
 },
 "nbformat": 4,
 "nbformat_minor": 2
}
