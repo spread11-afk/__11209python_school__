{
 "cells": [
  {
   "cell_type": "code",
   "execution_count": 6,
   "metadata": {},
   "outputs": [],
   "source": [
    "import pyinputplus as pyip\n"
   ]
  },
  {
   "cell_type": "code",
   "execution_count": 38,
   "metadata": {},
   "outputs": [
    {
     "name": "stdout",
     "output_type": "stream",
     "text": [
      "請輸入身高 170  公分\n",
      "請輸入體重 72  公斤\n",
      "Bmi：24.0\n",
      "身體狀態：適中\n"
     ]
    }
   ],
   "source": [
    "import pyinputplus as pyip\n",
    "hight=pyip.inputInt(\"請輸入身高\")\n",
    "print(f\" {hight}  公分\")\n",
    "weight=pyip.inputInt(\"請輸入體重\")\n",
    "print(f\" {weight}  公斤\")\n",
    "bmi=weight//(hight*0.01)**2\n",
    "print(f\"Bmi：{bmi}\")\n",
    "if bmi <18.5:\n",
    "    print(f\"身體狀態：過輕\")\n",
    "elif bmi >=18.5 and bmi <25:\n",
    "    print(f\"身體狀態：適中\")"
   ]
  },
  {
   "cell_type": "code",
   "execution_count": 39,
   "metadata": {},
   "outputs": [],
   "source": [
    "import pyinputplus as pyip\n",
    "\n"
   ]
  }
 ],
 "metadata": {
  "kernelspec": {
   "display_name": ".venv",
   "language": "python",
   "name": "python3"
  },
  "language_info": {
   "codemirror_mode": {
    "name": "ipython",
    "version": 3
   },
   "file_extension": ".py",
   "mimetype": "text/x-python",
   "name": "python",
   "nbconvert_exporter": "python",
   "pygments_lexer": "ipython3",
   "version": "3.10.8"
  },
  "orig_nbformat": 4
 },
 "nbformat": 4,
 "nbformat_minor": 2
}
